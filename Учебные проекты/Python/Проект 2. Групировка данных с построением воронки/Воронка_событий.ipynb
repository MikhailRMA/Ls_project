{
 "cells": [
  {
   "cell_type": "markdown",
   "id": "a8ced2b7-4893-4925-b7c6-e2a0af887272",
   "metadata": {},
   "source": [
    "# Загрузка и иследование данных"
   ]
  },
  {
   "cell_type": "markdown",
   "id": "0eca4763-e958-41de-8de5-003cab33e03a",
   "metadata": {},
   "source": [
    "\r\n",
    "​Загрузьте и иссловатьте данные;\r\n",
    "Иссоватьйте частоту появления значений в категориальных переменныИсследоватьуйте распределение возможных значений выр.ения."
   ]
  },
  {
   "cell_type": "code",
   "execution_count": 7,
   "id": "857a0d47-3307-4916-8d4e-ccf6e5c42127",
   "metadata": {},
   "outputs": [
    {
     "name": "stdout",
     "output_type": "stream",
     "text": [
      "<class 'pandas.core.frame.DataFrame'>\n",
      "RangeIndex: 6889 entries, 0 to 6888\n",
      "Data columns (total 4 columns):\n",
      " #   Column    Non-Null Count  Dtype  \n",
      "---  ------    --------------  -----  \n",
      " 0   user_id   6889 non-null   object \n",
      " 1   event_dt  6889 non-null   object \n",
      " 2   revenue   6889 non-null   float64\n",
      " 3   item      6889 non-null   object \n",
      "dtypes: float64(1), object(3)\n",
      "memory usage: 215.4+ KB\n"
     ]
    },
    {
     "data": {
      "text/plain": [
       "item\n",
       "10 Р·РѕР»РѕС‚С‹С… РјРѕРЅРµС‚                  6580\n",
       "20 Р·РѕР»РѕС‚С‹С… РјРѕРЅРµС‚                   257\n",
       "РЇС‰РёРє СЃСЋСЂРїСЂРёР·РѕРј                     24\n",
       "Р‘РѕР»СЊС€РѕР№ СЏС‰РёРє СЃСЋСЂРїСЂРёР·РѕРј      15\n",
       "РњРµРіР°-РїР°Рє                                 13\n",
       "Name: count, dtype: int64"
      ]
     },
     "execution_count": 7,
     "metadata": {},
     "output_type": "execute_result"
    }
   ],
   "source": [
    "import pandas as pd\n",
    "data_purchases = pd.read_csv('purchases.csv')\n",
    "data_purchases.info()\n",
    "data_purchases.head(5)\n",
    "data_purchases['item'].value_counts()"
   ]
  },
  {
   "cell_type": "code",
   "execution_count": 7,
   "id": "ed38eb1f-f768-40ea-9164-748aed498d04",
   "metadata": {},
   "outputs": [
    {
     "data": {
      "text/html": [
       "<div>\n",
       "<style scoped>\n",
       "    .dataframe tbody tr th:only-of-type {\n",
       "        vertical-align: middle;\n",
       "    }\n",
       "\n",
       "    .dataframe tbody tr th {\n",
       "        vertical-align: top;\n",
       "    }\n",
       "\n",
       "    .dataframe thead th {\n",
       "        text-align: right;\n",
       "    }\n",
       "</style>\n",
       "<table border=\"1\" class=\"dataframe\">\n",
       "  <thead>\n",
       "    <tr style=\"text-align: right;\">\n",
       "      <th></th>\n",
       "      <th>revenue</th>\n",
       "    </tr>\n",
       "    <tr>\n",
       "      <th>item</th>\n",
       "      <th></th>\n",
       "    </tr>\n",
       "  </thead>\n",
       "  <tbody>\n",
       "    <tr>\n",
       "      <th>10 Р·РѕР»РѕС‚С‹С… РјРѕРЅРµС‚</th>\n",
       "      <td>6580</td>\n",
       "    </tr>\n",
       "    <tr>\n",
       "      <th>20 Р·РѕР»РѕС‚С‹С… РјРѕРЅРµС‚</th>\n",
       "      <td>257</td>\n",
       "    </tr>\n",
       "    <tr>\n",
       "      <th>РЇС‰РёРє СЃСЋСЂРїСЂРёР·РѕРј</th>\n",
       "      <td>24</td>\n",
       "    </tr>\n",
       "    <tr>\n",
       "      <th>РњРµРіР°-РїР°Рє</th>\n",
       "      <td>13</td>\n",
       "    </tr>\n",
       "    <tr>\n",
       "      <th>Р‘РѕР»СЊС€РѕР№ СЏС‰РёРє СЃСЋСЂРїСЂРёР·РѕРј</th>\n",
       "      <td>15</td>\n",
       "    </tr>\n",
       "  </tbody>\n",
       "</table>\n",
       "</div>"
      ],
      "text/plain": [
       "                                            revenue\n",
       "item                                               \n",
       "10 Р·РѕР»РѕС‚С‹С… РјРѕРЅРµС‚                   6580\n",
       "20 Р·РѕР»РѕС‚С‹С… РјРѕРЅРµС‚                    257\n",
       "РЇС‰РёРє СЃСЋСЂРїСЂРёР·РѕРј                      24\n",
       "РњРµРіР°-РїР°Рє                                  13\n",
       "Р‘РѕР»СЊС€РѕР№ СЏС‰РёРє СЃСЋСЂРїСЂРёР·РѕРј       15"
      ]
     },
     "execution_count": 7,
     "metadata": {},
     "output_type": "execute_result"
    }
   ],
   "source": [
    "from matplotlib import pyplot as plt\n",
    "data_purchases.groupby(['item']).agg({'revenue': 'count'})\n"
   ]
  },
  {
   "cell_type": "code",
   "execution_count": 29,
   "id": "7433254e-6807-448c-8380-201138bc0a87",
   "metadata": {},
   "outputs": [
    {
     "name": "stdout",
     "output_type": "stream",
     "text": [
      "<class 'pandas.core.frame.DataFrame'>\n",
      "RangeIndex: 370374 entries, 0 to 370373\n",
      "Data columns (total 4 columns):\n",
      " #   Column      Non-Null Count   Dtype         \n",
      "---  ------      --------------   -----         \n",
      " 0   user_id     370374 non-null  object        \n",
      " 1   event_name  370374 non-null  object        \n",
      " 2   event_dt    370374 non-null  datetime64[ns]\n",
      " 3   date        370374 non-null  object        \n",
      "dtypes: datetime64[ns](1), object(3)\n",
      "memory usage: 11.3+ MB\n"
     ]
    },
    {
     "data": {
      "text/html": [
       "<div>\n",
       "<style scoped>\n",
       "    .dataframe tbody tr th:only-of-type {\n",
       "        vertical-align: middle;\n",
       "    }\n",
       "\n",
       "    .dataframe tbody tr th {\n",
       "        vertical-align: top;\n",
       "    }\n",
       "\n",
       "    .dataframe thead th {\n",
       "        text-align: right;\n",
       "    }\n",
       "</style>\n",
       "<table border=\"1\" class=\"dataframe\">\n",
       "  <thead>\n",
       "    <tr style=\"text-align: right;\">\n",
       "      <th></th>\n",
       "      <th>user_id</th>\n",
       "      <th>event_name</th>\n",
       "      <th>event_dt</th>\n",
       "      <th>date</th>\n",
       "    </tr>\n",
       "  </thead>\n",
       "  <tbody>\n",
       "    <tr>\n",
       "      <th>0</th>\n",
       "      <td>--0-b0cbb8-a</td>\n",
       "      <td>first_game</td>\n",
       "      <td>2020-06-08 13:46:08</td>\n",
       "      <td>2020-06-08</td>\n",
       "    </tr>\n",
       "    <tr>\n",
       "      <th>1</th>\n",
       "      <td>--0-b0cbb8-a</td>\n",
       "      <td>first_upgrade</td>\n",
       "      <td>2020-06-09 15:52:00</td>\n",
       "      <td>2020-06-09</td>\n",
       "    </tr>\n",
       "    <tr>\n",
       "      <th>2</th>\n",
       "      <td>--0-b0cbb8-a</td>\n",
       "      <td>login</td>\n",
       "      <td>2020-06-01 23:36:14</td>\n",
       "      <td>2020-06-01</td>\n",
       "    </tr>\n",
       "    <tr>\n",
       "      <th>3</th>\n",
       "      <td>--0-b0cbb8-a</td>\n",
       "      <td>registration</td>\n",
       "      <td>2020-06-01 23:36:16</td>\n",
       "      <td>2020-06-01</td>\n",
       "    </tr>\n",
       "    <tr>\n",
       "      <th>4</th>\n",
       "      <td>--0-b0cbb8-a</td>\n",
       "      <td>tutorial_completed</td>\n",
       "      <td>2020-06-08 13:46:07</td>\n",
       "      <td>2020-06-08</td>\n",
       "    </tr>\n",
       "  </tbody>\n",
       "</table>\n",
       "</div>"
      ],
      "text/plain": [
       "        user_id          event_name            event_dt        date\n",
       "0  --0-b0cbb8-a          first_game 2020-06-08 13:46:08  2020-06-08\n",
       "1  --0-b0cbb8-a       first_upgrade 2020-06-09 15:52:00  2020-06-09\n",
       "2  --0-b0cbb8-a               login 2020-06-01 23:36:14  2020-06-01\n",
       "3  --0-b0cbb8-a        registration 2020-06-01 23:36:16  2020-06-01\n",
       "4  --0-b0cbb8-a  tutorial_completed 2020-06-08 13:46:07  2020-06-08"
      ]
     },
     "execution_count": 29,
     "metadata": {},
     "output_type": "execute_result"
    }
   ],
   "source": [
    "import pandas as pd\n",
    "data_events = pd.read_excel('events.xlsx')\n",
    "data_events['date'] = pd.to_datetime(data_events['event_dt']).dt.date\n",
    "data_events['date'].min(), data_events['date'].max()\n",
    "data_events.info()\n",
    "data_events.head(5)"
   ]
  },
  {
   "cell_type": "code",
   "execution_count": 31,
   "id": "2b431f25-41e6-4fac-ba60-080ab205e23d",
   "metadata": {},
   "outputs": [
    {
     "data": {
      "text/plain": [
       "event_name\n",
       "login                 83185\n",
       "registration          79897\n",
       "tuturial_started      74348\n",
       "tutorial_completed    59857\n",
       "first_game            47666\n",
       "first_upgrade         17832\n",
       "purchase               6889\n",
       "friend_invite           700\n",
       "Name: count, dtype: int64"
      ]
     },
     "execution_count": 31,
     "metadata": {},
     "output_type": "execute_result"
    }
   ],
   "source": [
    "data_events['event_name'].value_counts() "
   ]
  },
  {
   "cell_type": "markdown",
   "id": "4902bcda-d6fa-426e-9032-65d984da6a54",
   "metadata": {},
   "source": [
    "# Группировка"
   ]
  },
  {
   "cell_type": "markdown",
   "id": "f832d0bf-20ef-49ff-98e2-c3284b549e6e",
   "metadata": {},
   "source": [
    "Исследовать как покупки пользователей связаны с типами покупаемых предметов:\r\n",
    "П поститьте таблицу, у которой в строках находятся названия купленных предметов (item), а в колонках количество покупок, уникальное число покупателей, общая выручка и медианная ценаД, доитььте в таблицу колонки \"% от общих покупок\" и % выручкцена']"
   ]
  },
  {
   "cell_type": "code",
   "execution_count": 66,
   "id": "34bb8296-3a93-486c-8bc0-9a9a540f5d7e",
   "metadata": {},
   "outputs": [
    {
     "name": "stdout",
     "output_type": "stream",
     "text": [
      "<class 'pandas.core.frame.DataFrame'>\n",
      "RangeIndex: 6889 entries, 0 to 6888\n",
      "Data columns (total 4 columns):\n",
      " #   Column    Non-Null Count  Dtype  \n",
      "---  ------    --------------  -----  \n",
      " 0   user_id   6889 non-null   object \n",
      " 1   event_dt  6889 non-null   object \n",
      " 2   revenue   6889 non-null   float64\n",
      " 3   item      6889 non-null   object \n",
      "dtypes: float64(1), object(3)\n",
      "memory usage: 215.4+ KB\n"
     ]
    }
   ],
   "source": [
    "\n",
    "from matplotlib import pyplot as plt\n",
    "data_purchases = pd.read_csv('purchases.csv')\n",
    "data_purchases.info()\n",
    "data_purchases.head(5)\n",
    "report = data_purchases.groupby('item').agg({'user_id': ['nunique', 'count'], 'revenue': ['sum', 'median']})\n",
    "report.columns = ['Количество покупателей', 'Количество покупок', 'Выручка', 'Медианная цена']"
   ]
  },
  {
   "cell_type": "code",
   "execution_count": 68,
   "id": "3f63aad8-b88e-4505-8ebb-caadefc02668",
   "metadata": {},
   "outputs": [
    {
     "data": {
      "text/html": [
       "<div>\n",
       "<style scoped>\n",
       "    .dataframe tbody tr th:only-of-type {\n",
       "        vertical-align: middle;\n",
       "    }\n",
       "\n",
       "    .dataframe tbody tr th {\n",
       "        vertical-align: top;\n",
       "    }\n",
       "\n",
       "    .dataframe thead th {\n",
       "        text-align: right;\n",
       "    }\n",
       "</style>\n",
       "<table border=\"1\" class=\"dataframe\">\n",
       "  <thead>\n",
       "    <tr style=\"text-align: right;\">\n",
       "      <th></th>\n",
       "      <th>Количество покупателей</th>\n",
       "      <th>Количество покупок</th>\n",
       "      <th>Выручка</th>\n",
       "      <th>Медианная цена</th>\n",
       "    </tr>\n",
       "    <tr>\n",
       "      <th>item</th>\n",
       "      <th></th>\n",
       "      <th></th>\n",
       "      <th></th>\n",
       "      <th></th>\n",
       "    </tr>\n",
       "  </thead>\n",
       "  <tbody>\n",
       "    <tr>\n",
       "      <th>10 Р·РѕР»РѕС‚С‹С… РјРѕРЅРµС‚</th>\n",
       "      <td>1376</td>\n",
       "      <td>6580</td>\n",
       "      <td>6580.0</td>\n",
       "      <td>1.0</td>\n",
       "    </tr>\n",
       "    <tr>\n",
       "      <th>20 Р·РѕР»РѕС‚С‹С… РјРѕРЅРµС‚</th>\n",
       "      <td>219</td>\n",
       "      <td>257</td>\n",
       "      <td>385.5</td>\n",
       "      <td>1.5</td>\n",
       "    </tr>\n",
       "    <tr>\n",
       "      <th>РЇС‰РёРє СЃСЋСЂРїСЂРёР·РѕРј</th>\n",
       "      <td>23</td>\n",
       "      <td>24</td>\n",
       "      <td>72.0</td>\n",
       "      <td>3.0</td>\n",
       "    </tr>\n",
       "    <tr>\n",
       "      <th>РњРµРіР°-РїР°Рє</th>\n",
       "      <td>13</td>\n",
       "      <td>13</td>\n",
       "      <td>130.0</td>\n",
       "      <td>10.0</td>\n",
       "    </tr>\n",
       "    <tr>\n",
       "      <th>Р‘РѕР»СЊС€РѕР№ СЏС‰РёРє СЃСЋСЂРїСЂРёР·РѕРј</th>\n",
       "      <td>15</td>\n",
       "      <td>15</td>\n",
       "      <td>75.0</td>\n",
       "      <td>5.0</td>\n",
       "    </tr>\n",
       "  </tbody>\n",
       "</table>\n",
       "</div>"
      ],
      "text/plain": [
       "                                            Количество покупателей  \\\n",
       "item                                                                 \n",
       "10 Р·РѕР»РѕС‚С‹С… РјРѕРЅРµС‚                                  1376   \n",
       "20 Р·РѕР»РѕС‚С‹С… РјРѕРЅРµС‚                                   219   \n",
       "РЇС‰РёРє СЃСЋСЂРїСЂРёР·РѕРј                                     23   \n",
       "РњРµРіР°-РїР°Рє                                                 13   \n",
       "Р‘РѕР»СЊС€РѕР№ СЏС‰РёРє СЃСЋСЂРїСЂРёР·РѕРј                      15   \n",
       "\n",
       "                                            Количество покупок  Выручка  \\\n",
       "item                                                                      \n",
       "10 Р·РѕР»РѕС‚С‹С… РјРѕРЅРµС‚                              6580   6580.0   \n",
       "20 Р·РѕР»РѕС‚С‹С… РјРѕРЅРµС‚                               257    385.5   \n",
       "РЇС‰РёРє СЃСЋСЂРїСЂРёР·РѕРј                                 24     72.0   \n",
       "РњРµРіР°-РїР°Рє                                             13    130.0   \n",
       "Р‘РѕР»СЊС€РѕР№ СЏС‰РёРє СЃСЋСЂРїСЂРёР·РѕРј                  15     75.0   \n",
       "\n",
       "                                            Медианная цена  \n",
       "item                                                        \n",
       "10 Р·РѕР»РѕС‚С‹С… РјРѕРЅРµС‚                           1.0  \n",
       "20 Р·РѕР»РѕС‚С‹С… РјРѕРЅРµС‚                           1.5  \n",
       "РЇС‰РёРє СЃСЋСЂРїСЂРёР·РѕРј                            3.0  \n",
       "РњРµРіР°-РїР°Рє                                       10.0  \n",
       "Р‘РѕР»СЊС€РѕР№ СЏС‰РёРє СЃСЋСЂРїСЂРёР·РѕРј             5.0  "
      ]
     },
     "execution_count": 68,
     "metadata": {},
     "output_type": "execute_result"
    }
   ],
   "source": [
    "report"
   ]
  },
  {
   "cell_type": "code",
   "execution_count": 80,
   "id": "0bd0245d-73c0-493b-80b2-eb39dc85d1e3",
   "metadata": {},
   "outputs": [
    {
     "data": {
      "text/html": [
       "<style type=\"text/css\">\n",
       "</style>\n",
       "<table id=\"T_e3479\">\n",
       "  <thead>\n",
       "    <tr>\n",
       "      <th class=\"blank level0\" >&nbsp;</th>\n",
       "      <th id=\"T_e3479_level0_col0\" class=\"col_heading level0 col0\" >Количество покупателей</th>\n",
       "      <th id=\"T_e3479_level0_col1\" class=\"col_heading level0 col1\" >Количество покупок</th>\n",
       "      <th id=\"T_e3479_level0_col2\" class=\"col_heading level0 col2\" >Выручка</th>\n",
       "      <th id=\"T_e3479_level0_col3\" class=\"col_heading level0 col3\" >Медианная цена</th>\n",
       "      <th id=\"T_e3479_level0_col4\" class=\"col_heading level0 col4\" >% от общих покупок</th>\n",
       "      <th id=\"T_e3479_level0_col5\" class=\"col_heading level0 col5\" >% выручки</th>\n",
       "    </tr>\n",
       "    <tr>\n",
       "      <th class=\"index_name level0\" >item</th>\n",
       "      <th class=\"blank col0\" >&nbsp;</th>\n",
       "      <th class=\"blank col1\" >&nbsp;</th>\n",
       "      <th class=\"blank col2\" >&nbsp;</th>\n",
       "      <th class=\"blank col3\" >&nbsp;</th>\n",
       "      <th class=\"blank col4\" >&nbsp;</th>\n",
       "      <th class=\"blank col5\" >&nbsp;</th>\n",
       "    </tr>\n",
       "  </thead>\n",
       "  <tbody>\n",
       "    <tr>\n",
       "      <th id=\"T_e3479_level0_row0\" class=\"row_heading level0 row0\" >10 Р·РѕР»РѕС‚С‹С… РјРѕРЅРµС‚</th>\n",
       "      <td id=\"T_e3479_row0_col0\" class=\"data row0 col0\" >1376</td>\n",
       "      <td id=\"T_e3479_row0_col1\" class=\"data row0 col1\" >6580</td>\n",
       "      <td id=\"T_e3479_row0_col2\" class=\"data row0 col2\" >6580.000000</td>\n",
       "      <td id=\"T_e3479_row0_col3\" class=\"data row0 col3\" >1.000000</td>\n",
       "      <td id=\"T_e3479_row0_col4\" class=\"data row0 col4\" >95.51%</td>\n",
       "      <td id=\"T_e3479_row0_col5\" class=\"data row0 col5\" >90.85%</td>\n",
       "    </tr>\n",
       "    <tr>\n",
       "      <th id=\"T_e3479_level0_row1\" class=\"row_heading level0 row1\" >20 Р·РѕР»РѕС‚С‹С… РјРѕРЅРµС‚</th>\n",
       "      <td id=\"T_e3479_row1_col0\" class=\"data row1 col0\" >219</td>\n",
       "      <td id=\"T_e3479_row1_col1\" class=\"data row1 col1\" >257</td>\n",
       "      <td id=\"T_e3479_row1_col2\" class=\"data row1 col2\" >385.500000</td>\n",
       "      <td id=\"T_e3479_row1_col3\" class=\"data row1 col3\" >1.500000</td>\n",
       "      <td id=\"T_e3479_row1_col4\" class=\"data row1 col4\" >3.73%</td>\n",
       "      <td id=\"T_e3479_row1_col5\" class=\"data row1 col5\" >5.32%</td>\n",
       "    </tr>\n",
       "    <tr>\n",
       "      <th id=\"T_e3479_level0_row2\" class=\"row_heading level0 row2\" >РЇС‰РёРє СЃСЋСЂРїСЂРёР·РѕРј</th>\n",
       "      <td id=\"T_e3479_row2_col0\" class=\"data row2 col0\" >23</td>\n",
       "      <td id=\"T_e3479_row2_col1\" class=\"data row2 col1\" >24</td>\n",
       "      <td id=\"T_e3479_row2_col2\" class=\"data row2 col2\" >72.000000</td>\n",
       "      <td id=\"T_e3479_row2_col3\" class=\"data row2 col3\" >3.000000</td>\n",
       "      <td id=\"T_e3479_row2_col4\" class=\"data row2 col4\" >0.35%</td>\n",
       "      <td id=\"T_e3479_row2_col5\" class=\"data row2 col5\" >0.99%</td>\n",
       "    </tr>\n",
       "    <tr>\n",
       "      <th id=\"T_e3479_level0_row3\" class=\"row_heading level0 row3\" >РњРµРіР°-РїР°Рє</th>\n",
       "      <td id=\"T_e3479_row3_col0\" class=\"data row3 col0\" >13</td>\n",
       "      <td id=\"T_e3479_row3_col1\" class=\"data row3 col1\" >13</td>\n",
       "      <td id=\"T_e3479_row3_col2\" class=\"data row3 col2\" >130.000000</td>\n",
       "      <td id=\"T_e3479_row3_col3\" class=\"data row3 col3\" >10.000000</td>\n",
       "      <td id=\"T_e3479_row3_col4\" class=\"data row3 col4\" >0.19%</td>\n",
       "      <td id=\"T_e3479_row3_col5\" class=\"data row3 col5\" >1.79%</td>\n",
       "    </tr>\n",
       "    <tr>\n",
       "      <th id=\"T_e3479_level0_row4\" class=\"row_heading level0 row4\" >Р‘РѕР»СЊС€РѕР№ СЏС‰РёРє СЃСЋСЂРїСЂРёР·РѕРј</th>\n",
       "      <td id=\"T_e3479_row4_col0\" class=\"data row4 col0\" >15</td>\n",
       "      <td id=\"T_e3479_row4_col1\" class=\"data row4 col1\" >15</td>\n",
       "      <td id=\"T_e3479_row4_col2\" class=\"data row4 col2\" >75.000000</td>\n",
       "      <td id=\"T_e3479_row4_col3\" class=\"data row4 col3\" >5.000000</td>\n",
       "      <td id=\"T_e3479_row4_col4\" class=\"data row4 col4\" >0.22%</td>\n",
       "      <td id=\"T_e3479_row4_col5\" class=\"data row4 col5\" >1.04%</td>\n",
       "    </tr>\n",
       "  </tbody>\n",
       "</table>\n"
      ],
      "text/plain": [
       "<pandas.io.formats.style.Styler at 0x1e6e774ff80>"
      ]
     },
     "execution_count": 80,
     "metadata": {},
     "output_type": "execute_result"
    }
   ],
   "source": [
    "report['% от общих покупок'] = report['Количество покупок'] / report['Количество покупок'].sum()\n",
    "report['% выручки'] = report['Выручка'] / report['Выручка'].sum()\n",
    "\n",
    "report.style.format({'% от общих покупок': '{:.2%}', '% выручки': '{:.2%}'})\n"
   ]
  },
  {
   "cell_type": "markdown",
   "id": "97702fd8-4926-4681-ad14-ad897cf7c4d2",
   "metadata": {},
   "source": [
    "# Построение воронки "
   ]
  },
  {
   "cell_type": "markdown",
   "id": "621585de-685b-4995-bc5e-eb24498b2b00",
   "metadata": {},
   "source": [
    "Изучить воронку событий.\n",
    "\n",
    "Построить таблицу воронки событий, содержащую колонки \"Число событий\", \"Уникальные пользователи\", \"% от первого шага воронки\";\n",
    "Отсортировать таблицу по колонке \"Уникальные пользователи;\n",
    "Построить график воронки с помощью библиотеки plotly и go.Funnel."
   ]
  },
  {
   "cell_type": "code",
   "execution_count": 98,
   "id": "c6c4df9e-d54f-4e4a-9380-6830bd3d4bd3",
   "metadata": {},
   "outputs": [
    {
     "data": {
      "text/html": [
       "<div>\n",
       "<style scoped>\n",
       "    .dataframe tbody tr th:only-of-type {\n",
       "        vertical-align: middle;\n",
       "    }\n",
       "\n",
       "    .dataframe tbody tr th {\n",
       "        vertical-align: top;\n",
       "    }\n",
       "\n",
       "    .dataframe thead th {\n",
       "        text-align: right;\n",
       "    }\n",
       "</style>\n",
       "<table border=\"1\" class=\"dataframe\">\n",
       "  <thead>\n",
       "    <tr style=\"text-align: right;\">\n",
       "      <th></th>\n",
       "      <th>user_id</th>\n",
       "      <th>event_name</th>\n",
       "      <th>event_dt</th>\n",
       "      <th>date</th>\n",
       "    </tr>\n",
       "  </thead>\n",
       "  <tbody>\n",
       "    <tr>\n",
       "      <th>0</th>\n",
       "      <td>--0-b0cbb8-a</td>\n",
       "      <td>first_game</td>\n",
       "      <td>2020-06-08 13:46:08</td>\n",
       "      <td>2020-06-08</td>\n",
       "    </tr>\n",
       "    <tr>\n",
       "      <th>1</th>\n",
       "      <td>--0-b0cbb8-a</td>\n",
       "      <td>first_upgrade</td>\n",
       "      <td>2020-06-09 15:52:00</td>\n",
       "      <td>2020-06-09</td>\n",
       "    </tr>\n",
       "    <tr>\n",
       "      <th>2</th>\n",
       "      <td>--0-b0cbb8-a</td>\n",
       "      <td>login</td>\n",
       "      <td>2020-06-01 23:36:14</td>\n",
       "      <td>2020-06-01</td>\n",
       "    </tr>\n",
       "    <tr>\n",
       "      <th>3</th>\n",
       "      <td>--0-b0cbb8-a</td>\n",
       "      <td>registration</td>\n",
       "      <td>2020-06-01 23:36:16</td>\n",
       "      <td>2020-06-01</td>\n",
       "    </tr>\n",
       "    <tr>\n",
       "      <th>4</th>\n",
       "      <td>--0-b0cbb8-a</td>\n",
       "      <td>tutorial_completed</td>\n",
       "      <td>2020-06-08 13:46:07</td>\n",
       "      <td>2020-06-08</td>\n",
       "    </tr>\n",
       "    <tr>\n",
       "      <th>...</th>\n",
       "      <td>...</td>\n",
       "      <td>...</td>\n",
       "      <td>...</td>\n",
       "      <td>...</td>\n",
       "    </tr>\n",
       "    <tr>\n",
       "      <th>370369</th>\n",
       "      <td>9cd8aa06b00b</td>\n",
       "      <td>purchase</td>\n",
       "      <td>2020-06-30 04:10:13</td>\n",
       "      <td>2020-06-30</td>\n",
       "    </tr>\n",
       "    <tr>\n",
       "      <th>370370</th>\n",
       "      <td>-f-dbaa-52f0</td>\n",
       "      <td>purchase</td>\n",
       "      <td>2020-06-30 13:12:34</td>\n",
       "      <td>2020-06-30</td>\n",
       "    </tr>\n",
       "    <tr>\n",
       "      <th>370371</th>\n",
       "      <td>50d0c5-63801</td>\n",
       "      <td>purchase</td>\n",
       "      <td>2020-06-30 13:43:59</td>\n",
       "      <td>2020-06-30</td>\n",
       "    </tr>\n",
       "    <tr>\n",
       "      <th>370372</th>\n",
       "      <td>109af6_d505-</td>\n",
       "      <td>purchase</td>\n",
       "      <td>2020-06-30 08:45:05</td>\n",
       "      <td>2020-06-30</td>\n",
       "    </tr>\n",
       "    <tr>\n",
       "      <th>370373</th>\n",
       "      <td>b243584_22c_</td>\n",
       "      <td>purchase</td>\n",
       "      <td>2020-06-30 16:17:04</td>\n",
       "      <td>2020-06-30</td>\n",
       "    </tr>\n",
       "  </tbody>\n",
       "</table>\n",
       "<p>370374 rows × 4 columns</p>\n",
       "</div>"
      ],
      "text/plain": [
       "             user_id          event_name            event_dt        date\n",
       "0       --0-b0cbb8-a          first_game 2020-06-08 13:46:08  2020-06-08\n",
       "1       --0-b0cbb8-a       first_upgrade 2020-06-09 15:52:00  2020-06-09\n",
       "2       --0-b0cbb8-a               login 2020-06-01 23:36:14  2020-06-01\n",
       "3       --0-b0cbb8-a        registration 2020-06-01 23:36:16  2020-06-01\n",
       "4       --0-b0cbb8-a  tutorial_completed 2020-06-08 13:46:07  2020-06-08\n",
       "...              ...                 ...                 ...         ...\n",
       "370369  9cd8aa06b00b            purchase 2020-06-30 04:10:13  2020-06-30\n",
       "370370  -f-dbaa-52f0            purchase 2020-06-30 13:12:34  2020-06-30\n",
       "370371  50d0c5-63801            purchase 2020-06-30 13:43:59  2020-06-30\n",
       "370372  109af6_d505-            purchase 2020-06-30 08:45:05  2020-06-30\n",
       "370373  b243584_22c_            purchase 2020-06-30 16:17:04  2020-06-30\n",
       "\n",
       "[370374 rows x 4 columns]"
      ]
     },
     "execution_count": 98,
     "metadata": {},
     "output_type": "execute_result"
    }
   ],
   "source": [
    "data_events"
   ]
  },
  {
   "cell_type": "code",
   "execution_count": 180,
   "id": "c88956b0-5a51-4149-89bb-62849c5ae8f5",
   "metadata": {},
   "outputs": [
    {
     "data": {
      "text/html": [
       "<style type=\"text/css\">\n",
       "</style>\n",
       "<table id=\"T_a418e\">\n",
       "  <thead>\n",
       "    <tr>\n",
       "      <th class=\"blank level0\" >&nbsp;</th>\n",
       "      <th id=\"T_a418e_level0_col0\" class=\"col_heading level0 col0\" >События</th>\n",
       "      <th id=\"T_a418e_level0_col1\" class=\"col_heading level0 col1\" >Уникальные пользователи</th>\n",
       "      <th id=\"T_a418e_level0_col2\" class=\"col_heading level0 col2\" >%</th>\n",
       "    </tr>\n",
       "    <tr>\n",
       "      <th class=\"index_name level0\" >event_name</th>\n",
       "      <th class=\"blank col0\" >&nbsp;</th>\n",
       "      <th class=\"blank col1\" >&nbsp;</th>\n",
       "      <th class=\"blank col2\" >&nbsp;</th>\n",
       "    </tr>\n",
       "  </thead>\n",
       "  <tbody>\n",
       "    <tr>\n",
       "      <th id=\"T_a418e_level0_row0\" class=\"row_heading level0 row0\" >login</th>\n",
       "      <td id=\"T_a418e_row0_col0\" class=\"data row0 col0\" >83185</td>\n",
       "      <td id=\"T_a418e_row0_col1\" class=\"data row0 col1\" >83185</td>\n",
       "      <td id=\"T_a418e_row0_col2\" class=\"data row0 col2\" >100.00%</td>\n",
       "    </tr>\n",
       "    <tr>\n",
       "      <th id=\"T_a418e_level0_row1\" class=\"row_heading level0 row1\" >registration</th>\n",
       "      <td id=\"T_a418e_row1_col0\" class=\"data row1 col0\" >79897</td>\n",
       "      <td id=\"T_a418e_row1_col1\" class=\"data row1 col1\" >79897</td>\n",
       "      <td id=\"T_a418e_row1_col2\" class=\"data row1 col2\" >96.05%</td>\n",
       "    </tr>\n",
       "    <tr>\n",
       "      <th id=\"T_a418e_level0_row2\" class=\"row_heading level0 row2\" >tuturial_started</th>\n",
       "      <td id=\"T_a418e_row2_col0\" class=\"data row2 col0\" >74348</td>\n",
       "      <td id=\"T_a418e_row2_col1\" class=\"data row2 col1\" >74348</td>\n",
       "      <td id=\"T_a418e_row2_col2\" class=\"data row2 col2\" >89.38%</td>\n",
       "    </tr>\n",
       "    <tr>\n",
       "      <th id=\"T_a418e_level0_row3\" class=\"row_heading level0 row3\" >tutorial_completed</th>\n",
       "      <td id=\"T_a418e_row3_col0\" class=\"data row3 col0\" >59857</td>\n",
       "      <td id=\"T_a418e_row3_col1\" class=\"data row3 col1\" >59857</td>\n",
       "      <td id=\"T_a418e_row3_col2\" class=\"data row3 col2\" >71.96%</td>\n",
       "    </tr>\n",
       "    <tr>\n",
       "      <th id=\"T_a418e_level0_row4\" class=\"row_heading level0 row4\" >first_game</th>\n",
       "      <td id=\"T_a418e_row4_col0\" class=\"data row4 col0\" >47666</td>\n",
       "      <td id=\"T_a418e_row4_col1\" class=\"data row4 col1\" >47666</td>\n",
       "      <td id=\"T_a418e_row4_col2\" class=\"data row4 col2\" >57.30%</td>\n",
       "    </tr>\n",
       "    <tr>\n",
       "      <th id=\"T_a418e_level0_row5\" class=\"row_heading level0 row5\" >first_upgrade</th>\n",
       "      <td id=\"T_a418e_row5_col0\" class=\"data row5 col0\" >17832</td>\n",
       "      <td id=\"T_a418e_row5_col1\" class=\"data row5 col1\" >17832</td>\n",
       "      <td id=\"T_a418e_row5_col2\" class=\"data row5 col2\" >21.44%</td>\n",
       "    </tr>\n",
       "    <tr>\n",
       "      <th id=\"T_a418e_level0_row6\" class=\"row_heading level0 row6\" >purchase</th>\n",
       "      <td id=\"T_a418e_row6_col0\" class=\"data row6 col0\" >1385</td>\n",
       "      <td id=\"T_a418e_row6_col1\" class=\"data row6 col1\" >6889</td>\n",
       "      <td id=\"T_a418e_row6_col2\" class=\"data row6 col2\" >8.28%</td>\n",
       "    </tr>\n",
       "    <tr>\n",
       "      <th id=\"T_a418e_level0_row7\" class=\"row_heading level0 row7\" >friend_invite</th>\n",
       "      <td id=\"T_a418e_row7_col0\" class=\"data row7 col0\" >700</td>\n",
       "      <td id=\"T_a418e_row7_col1\" class=\"data row7 col1\" >700</td>\n",
       "      <td id=\"T_a418e_row7_col2\" class=\"data row7 col2\" >0.84%</td>\n",
       "    </tr>\n",
       "  </tbody>\n",
       "</table>\n"
      ],
      "text/plain": [
       "<pandas.io.formats.style.Styler at 0x1e6e9bd26f0>"
      ]
     },
     "execution_count": 180,
     "metadata": {},
     "output_type": "execute_result"
    }
   ],
   "source": [
    "\n",
    "repot_2 = data_events.groupby(['event_name']).agg({ 'user_id': ['nunique', 'count'] })\n",
    "repot_2.columns = ['События', 'Уникальные пользователи']\n",
    "repot_2 = repot_2.sort_values(by = 'Уникальные пользователи', ascending = False)\n",
    "repot_2['%'] = repot_2['Уникальные пользователи'] /  repot_2['Уникальные пользователи'].values[0]\n",
    "repot_2.style.format({'%': '{:.2%}'})\n",
    "\n"
   ]
  },
  {
   "cell_type": "code",
   "execution_count": 190,
   "id": "0a532b1e-44c4-440b-a79a-f68fa50f09c6",
   "metadata": {},
   "outputs": [
    {
     "data": {
      "image/png": "[encoded data removed]",
      "text/plain": [
       "<Figure size 1500x500 with 1 Axes>"
      ]
     },
     "metadata": {},
     "output_type": "display_data"
    }
   ],
   "source": [
    "import matplotlib.ticker as mtick\n",
    "ax = repot_2['%'].plot(figsize = (15, 5), grid = True)\n",
    "ax.yaxis.set_major_formatter(mtick.PercentFormatter(1))\n",
    "\n",
    "for x, y in zip(range(len(report)), repot_2['%']):\n",
    " ax.annotate('{:.2%}'.format(y), xy = (x, y), color = 'grey') #\n",
    "plt.xlabel('Шаг воронки'), plt.ylabel('Коверсия, %'),\n",
    "plt.title('Воронка покупок по спец-предложению');"
   ]
  },
  {
   "cell_type": "code",
   "execution_count": 192,
   "id": "2346fd19-1843-4ab4-aa02-8869ddcdc26f",
   "metadata": {},
   "outputs": [
    {
     "data": {
      "text/html": [
       "        <script type=\"text/javascript\">\n",
       "        window.PlotlyConfig = {MathJaxConfig: 'local'};\n",
       "        if (window.MathJax && window.MathJax.Hub && window.MathJax.Hub.Config) {window.MathJax.Hub.Config({SVG: {font: \"STIX-Web\"}});}\n",
       "        if (typeof require !== 'undefined') {\n",
       "        require.undef(\"plotly\");\n",
       "        requirejs.config({\n",
       "            paths: {\n",
       "                'plotly': ['https://cdn.plot.ly/plotly-2.32.0.min']\n",
       "            }\n",
       "        });\n",
       "        require(['plotly'], function(Plotly) {\n",
       "            window._Plotly = Plotly;\n",
       "        });\n",
       "        }\n",
       "        </script>\n",
       "        "
      ]
     },
     "metadata": {},
     "output_type": "display_data"
    },
    {
     "data": {
      "application/vnd.plotly.v1+json": {
       "config": {
        "plotlyServerURL": "https://plot.ly"
       },
       "data": [
        {
         "textinfo": "value+percent initial",
         "type": "funnel",
         "x": [
          83185,
          79897,
          74348,
          59857,
          47666,
          17832,
          6889,
          700
         ],
         "y": [
          "login",
          "registration",
          "tuturial_started",
          "tutorial_completed",
          "first_game",
          "first_upgrade",
          "purchase",
          "friend_invite"
         ]
        }
       ],
       "layout": {
        "autosize": true,
        "template": {
         "data": {
          "bar": [
           {
            "error_x": {
             "color": "#2a3f5f"
            },
            "error_y": {
             "color": "#2a3f5f"
            },
            "marker": {
             "line": {
              "color": "#E5ECF6",
              "width": 0.5
             },
             "pattern": {
              "fillmode": "overlay",
              "size": 10,
              "solidity": 0.2
             }
            },
            "type": "bar"
           }
          ],
          "barpolar": [
           {
            "marker": {
             "line": {
              "color": "#E5ECF6",
              "width": 0.5
             },
             "pattern": {
              "fillmode": "overlay",
              "size": 10,
              "solidity": 0.2
             }
            },
            "type": "barpolar"
           }
          ],
          "carpet": [
           {
            "aaxis": {
             "endlinecolor": "#2a3f5f",
             "gridcolor": "white",
             "linecolor": "white",
             "minorgridcolor": "white",
             "startlinecolor": "#2a3f5f"
            },
            "baxis": {
             "endlinecolor": "#2a3f5f",
             "gridcolor": "white",
             "linecolor": "white",
             "minorgridcolor": "white",
             "startlinecolor": "#2a3f5f"
            },
            "type": "carpet"
           }
          ],
          "choropleth": [
           {
            "colorbar": {
             "outlinewidth": 0,
             "ticks": ""
            },
            "type": "choropleth"
           }
          ],
          "contour": [
           {
            "colorbar": {
             "outlinewidth": 0,
             "ticks": ""
            },
            "colorscale": [
             [
              0,
              "#0d0887"
             ],
             [
              0.1111111111111111,
              "#46039f"
             ],
             [
              0.2222222222222222,
              "#7201a8"
             ],
             [
              0.3333333333333333,
              "#9c179e"
             ],
             [
              0.4444444444444444,
              "#bd3786"
             ],
             [
              0.5555555555555556,
              "#d8576b"
             ],
             [
              0.6666666666666666,
              "#ed7953"
             ],
             [
              0.7777777777777778,
              "#fb9f3a"
             ],
             [
              0.8888888888888888,
              "#fdca26"
             ],
             [
              1,
              "#f0f921"
             ]
            ],
            "type": "contour"
           }
          ],
          "contourcarpet": [
           {
            "colorbar": {
             "outlinewidth": 0,
             "ticks": ""
            },
            "type": "contourcarpet"
           }
          ],
          "heatmap": [
           {
            "colorbar": {
             "outlinewidth": 0,
             "ticks": ""
            },
            "colorscale": [
             [
              0,
              "#0d0887"
             ],
             [
              0.1111111111111111,
              "#46039f"
             ],
             [
              0.2222222222222222,
              "#7201a8"
             ],
             [
              0.3333333333333333,
              "#9c179e"
             ],
             [
              0.4444444444444444,
              "#bd3786"
             ],
             [
              0.5555555555555556,
              "#d8576b"
             ],
             [
              0.6666666666666666,
              "#ed7953"
             ],
             [
              0.7777777777777778,
              "#fb9f3a"
             ],
             [
              0.8888888888888888,
              "#fdca26"
             ],
             [
              1,
              "#f0f921"
             ]
            ],
            "type": "heatmap"
           }
          ],
          "heatmapgl": [
           {
            "colorbar": {
             "outlinewidth": 0,
             "ticks": ""
            },
            "colorscale": [
             [
              0,
              "#0d0887"
             ],
             [
              0.1111111111111111,
              "#46039f"
             ],
             [
              0.2222222222222222,
              "#7201a8"
             ],
             [
              0.3333333333333333,
              "#9c179e"
             ],
             [
              0.4444444444444444,
              "#bd3786"
             ],
             [
              0.5555555555555556,
              "#d8576b"
             ],
             [
              0.6666666666666666,
              "#ed7953"
             ],
             [
              0.7777777777777778,
              "#fb9f3a"
             ],
             [
              0.8888888888888888,
              "#fdca26"
             ],
             [
              1,
              "#f0f921"
             ]
            ],
            "type": "heatmapgl"
           }
          ],
          "histogram": [
           {
            "marker": {
             "pattern": {
              "fillmode": "overlay",
              "size": 10,
              "solidity": 0.2
             }
            },
            "type": "histogram"
           }
          ],
          "histogram2d": [
           {
            "colorbar": {
             "outlinewidth": 0,
             "ticks": ""
            },
            "colorscale": [
             [
              0,
              "#0d0887"
             ],
             [
              0.1111111111111111,
              "#46039f"
             ],
             [
              0.2222222222222222,
              "#7201a8"
             ],
             [
              0.3333333333333333,
              "#9c179e"
             ],
             [
              0.4444444444444444,
              "#bd3786"
             ],
             [
              0.5555555555555556,
              "#d8576b"
             ],
             [
              0.6666666666666666,
              "#ed7953"
             ],
             [
              0.7777777777777778,
              "#fb9f3a"
             ],
             [
              0.8888888888888888,
              "#fdca26"
             ],
             [
              1,
              "#f0f921"
             ]
            ],
            "type": "histogram2d"
           }
          ],
          "histogram2dcontour": [
           {
            "colorbar": {
             "outlinewidth": 0,
             "ticks": ""
            },
            "colorscale": [
             [
              0,
              "#0d0887"
             ],
             [
              0.1111111111111111,
              "#46039f"
             ],
             [
              0.2222222222222222,
              "#7201a8"
             ],
             [
              0.3333333333333333,
              "#9c179e"
             ],
             [
              0.4444444444444444,
              "#bd3786"
             ],
             [
              0.5555555555555556,
              "#d8576b"
             ],
             [
              0.6666666666666666,
              "#ed7953"
             ],
             [
              0.7777777777777778,
              "#fb9f3a"
             ],
             [
              0.8888888888888888,
              "#fdca26"
             ],
             [
              1,
              "#f0f921"
             ]
            ],
            "type": "histogram2dcontour"
           }
          ],
          "mesh3d": [
           {
            "colorbar": {
             "outlinewidth": 0,
             "ticks": ""
            },
            "type": "mesh3d"
           }
          ],
          "parcoords": [
           {
            "line": {
             "colorbar": {
              "outlinewidth": 0,
              "ticks": ""
             }
            },
            "type": "parcoords"
           }
          ],
          "pie": [
           {
            "automargin": true,
            "type": "pie"
           }
          ],
          "scatter": [
           {
            "fillpattern": {
             "fillmode": "overlay",
             "size": 10,
             "solidity": 0.2
            },
            "type": "scatter"
           }
          ],
          "scatter3d": [
           {
            "line": {
             "colorbar": {
              "outlinewidth": 0,
              "ticks": ""
             }
            },
            "marker": {
             "colorbar": {
              "outlinewidth": 0,
              "ticks": ""
             }
            },
            "type": "scatter3d"
           }
          ],
          "scattercarpet": [
           {
            "marker": {
             "colorbar": {
              "outlinewidth": 0,
              "ticks": ""
             }
            },
            "type": "scattercarpet"
           }
          ],
          "scattergeo": [
           {
            "marker": {
             "colorbar": {
              "outlinewidth": 0,
              "ticks": ""
             }
            },
            "type": "scattergeo"
           }
          ],
          "scattergl": [
           {
            "marker": {
             "colorbar": {
              "outlinewidth": 0,
              "ticks": ""
             }
            },
            "type": "scattergl"
           }
          ],
          "scattermapbox": [
           {
            "marker": {
             "colorbar": {
              "outlinewidth": 0,
              "ticks": ""
             }
            },
            "type": "scattermapbox"
           }
          ],
          "scatterpolar": [
           {
            "marker": {
             "colorbar": {
              "outlinewidth": 0,
              "ticks": ""
             }
            },
            "type": "scatterpolar"
           }
          ],
          "scatterpolargl": [
           {
            "marker": {
             "colorbar": {
              "outlinewidth": 0,
              "ticks": ""
             }
            },
            "type": "scatterpolargl"
           }
          ],
          "scatterternary": [
           {
            "marker": {
             "colorbar": {
              "outlinewidth": 0,
              "ticks": ""
             }
            },
            "type": "scatterternary"
           }
          ],
          "surface": [
           {
            "colorbar": {
             "outlinewidth": 0,
             "ticks": ""
            },
            "colorscale": [
             [
              0,
              "#0d0887"
             ],
             [
              0.1111111111111111,
              "#46039f"
             ],
             [
              0.2222222222222222,
              "#7201a8"
             ],
             [
              0.3333333333333333,
              "#9c179e"
             ],
             [
              0.4444444444444444,
              "#bd3786"
             ],
             [
              0.5555555555555556,
              "#d8576b"
             ],
             [
              0.6666666666666666,
              "#ed7953"
             ],
             [
              0.7777777777777778,
              "#fb9f3a"
             ],
             [
              0.8888888888888888,
              "#fdca26"
             ],
             [
              1,
              "#f0f921"
             ]
            ],
            "type": "surface"
           }
          ],
          "table": [
           {
            "cells": {
             "fill": {
              "color": "#EBF0F8"
             },
             "line": {
              "color": "white"
             }
            },
            "header": {
             "fill": {
              "color": "#C8D4E3"
             },
             "line": {
              "color": "white"
             }
            },
            "type": "table"
           }
          ]
         },
         "layout": {
          "annotationdefaults": {
           "arrowcolor": "#2a3f5f",
           "arrowhead": 0,
           "arrowwidth": 1
          },
          "autotypenumbers": "strict",
          "coloraxis": {
           "colorbar": {
            "outlinewidth": 0,
            "ticks": ""
           }
          },
          "colorscale": {
           "diverging": [
            [
             0,
             "#8e0152"
            ],
            [
             0.1,
             "#c51b7d"
            ],
            [
             0.2,
             "#de77ae"
            ],
            [
             0.3,
             "#f1b6da"
            ],
            [
             0.4,
             "#fde0ef"
            ],
            [
             0.5,
             "#f7f7f7"
            ],
            [
             0.6,
             "#e6f5d0"
            ],
            [
             0.7,
             "#b8e186"
            ],
            [
             0.8,
             "#7fbc41"
            ],
            [
             0.9,
             "#4d9221"
            ],
            [
             1,
             "#276419"
            ]
           ],
           "sequential": [
            [
             0,
             "#0d0887"
            ],
            [
             0.1111111111111111,
             "#46039f"
            ],
            [
             0.2222222222222222,
             "#7201a8"
            ],
            [
             0.3333333333333333,
             "#9c179e"
            ],
            [
             0.4444444444444444,
             "#bd3786"
            ],
            [
             0.5555555555555556,
             "#d8576b"
            ],
            [
             0.6666666666666666,
             "#ed7953"
            ],
            [
             0.7777777777777778,
             "#fb9f3a"
            ],
            [
             0.8888888888888888,
             "#fdca26"
            ],
            [
             1,
             "#f0f921"
            ]
           ],
           "sequentialminus": [
            [
             0,
             "#0d0887"
            ],
            [
             0.1111111111111111,
             "#46039f"
            ],
            [
             0.2222222222222222,
             "#7201a8"
            ],
            [
             0.3333333333333333,
             "#9c179e"
            ],
            [
             0.4444444444444444,
             "#bd3786"
            ],
            [
             0.5555555555555556,
             "#d8576b"
            ],
            [
             0.6666666666666666,
             "#ed7953"
            ],
            [
             0.7777777777777778,
             "#fb9f3a"
            ],
            [
             0.8888888888888888,
             "#fdca26"
            ],
            [
             1,
             "#f0f921"
            ]
           ]
          },
          "colorway": [
           "#636efa",
           "#EF553B",
           "#00cc96",
           "#ab63fa",
           "#FFA15A",
           "#19d3f3",
           "#FF6692",
           "#B6E880",
           "#FF97FF",
           "#FECB52"
          ],
          "font": {
           "color": "#2a3f5f"
          },
          "geo": {
           "bgcolor": "white",
           "lakecolor": "white",
           "landcolor": "#E5ECF6",
           "showlakes": true,
           "showland": true,
           "subunitcolor": "white"
          },
          "hoverlabel": {
           "align": "left"
          },
          "hovermode": "closest",
          "mapbox": {
           "style": "light"
          },
          "paper_bgcolor": "white",
          "plot_bgcolor": "#E5ECF6",
          "polar": {
           "angularaxis": {
            "gridcolor": "white",
            "linecolor": "white",
            "ticks": ""
           },
           "bgcolor": "#E5ECF6",
           "radialaxis": {
            "gridcolor": "white",
            "linecolor": "white",
            "ticks": ""
           }
          },
          "scene": {
           "xaxis": {
            "backgroundcolor": "#E5ECF6",
            "gridcolor": "white",
            "gridwidth": 2,
            "linecolor": "white",
            "showbackground": true,
            "ticks": "",
            "zerolinecolor": "white"
           },
           "yaxis": {
            "backgroundcolor": "#E5ECF6",
            "gridcolor": "white",
            "gridwidth": 2,
            "linecolor": "white",
            "showbackground": true,
            "ticks": "",
            "zerolinecolor": "white"
           },
           "zaxis": {
            "backgroundcolor": "#E5ECF6",
            "gridcolor": "white",
            "gridwidth": 2,
            "linecolor": "white",
            "showbackground": true,
            "ticks": "",
            "zerolinecolor": "white"
           }
          },
          "shapedefaults": {
           "line": {
            "color": "#2a3f5f"
           }
          },
          "ternary": {
           "aaxis": {
            "gridcolor": "white",
            "linecolor": "white",
            "ticks": ""
           },
           "baxis": {
            "gridcolor": "white",
            "linecolor": "white",
            "ticks": ""
           },
           "bgcolor": "#E5ECF6",
           "caxis": {
            "gridcolor": "white",
            "linecolor": "white",
            "ticks": ""
           }
          },
          "title": {
           "x": 0.05
          },
          "xaxis": {
           "automargin": true,
           "gridcolor": "white",
           "linecolor": "white",
           "ticks": "",
           "title": {
            "standoff": 15
           },
           "zerolinecolor": "white",
           "zerolinewidth": 2
          },
          "yaxis": {
           "automargin": true,
           "gridcolor": "white",
           "linecolor": "white",
           "ticks": "",
           "title": {
            "standoff": 15
           },
           "zerolinecolor": "white",
           "zerolinewidth": 2
          }
         }
        },
        "title": {
         "text": "Воронка онбординга пользователей"
        },
        "xaxis": {
         "autorange": true,
         "range": [
          -46213.88888888889,
          46213.88888888889
         ],
         "type": "linear"
        },
        "yaxis": {
         "autorange": true,
         "range": [
          7.5,
          -0.5
         ],
         "title": {
          "text": "Шаги воронки"
         },
         "type": "category"
        }
       }
      },
      "image/png": "[encoded data removed]",
      "text/html": [
       "<div>                            <div id=\"c9ccae01-9fb1-4de8-807c-548ea3098349\" class=\"plotly-graph-div\" style=\"height:525px; width:100%;\"></div>            <script type=\"text/javascript\">                require([\"plotly\"], function(Plotly) {                    window.PLOTLYENV=window.PLOTLYENV || {};                                    if (document.getElementById(\"c9ccae01-9fb1-4de8-807c-548ea3098349\")) {                    Plotly.newPlot(                        \"c9ccae01-9fb1-4de8-807c-548ea3098349\",                        [{\"textinfo\":\"value+percent initial\",\"x\":[83185,79897,74348,59857,47666,17832,6889,700],\"y\":[\"login\",\"registration\",\"tuturial_started\",\"tutorial_completed\",\"first_game\",\"first_upgrade\",\"purchase\",\"friend_invite\"],\"type\":\"funnel\"}],                        {\"template\":{\"data\":{\"histogram2dcontour\":[{\"type\":\"histogram2dcontour\",\"colorbar\":{\"outlinewidth\":0,\"ticks\":\"\"},\"colorscale\":[[0.0,\"#0d0887\"],[0.1111111111111111,\"#46039f\"],[0.2222222222222222,\"#7201a8\"],[0.3333333333333333,\"#9c179e\"],[0.4444444444444444,\"#bd3786\"],[0.5555555555555556,\"#d8576b\"],[0.6666666666666666,\"#ed7953\"],[0.7777777777777778,\"#fb9f3a\"],[0.8888888888888888,\"#fdca26\"],[1.0,\"#f0f921\"]]}],\"choropleth\":[{\"type\":\"choropleth\",\"colorbar\":{\"outlinewidth\":0,\"ticks\":\"\"}}],\"histogram2d\":[{\"type\":\"histogram2d\",\"colorbar\":{\"outlinewidth\":0,\"ticks\":\"\"},\"colorscale\":[[0.0,\"#0d0887\"],[0.1111111111111111,\"#46039f\"],[0.2222222222222222,\"#7201a8\"],[0.3333333333333333,\"#9c179e\"],[0.4444444444444444,\"#bd3786\"],[0.5555555555555556,\"#d8576b\"],[0.6666666666666666,\"#ed7953\"],[0.7777777777777778,\"#fb9f3a\"],[0.8888888888888888,\"#fdca26\"],[1.0,\"#f0f921\"]]}],\"heatmap\":[{\"type\":\"heatmap\",\"colorbar\":{\"outlinewidth\":0,\"ticks\":\"\"},\"colorscale\":[[0.0,\"#0d0887\"],[0.1111111111111111,\"#46039f\"],[0.2222222222222222,\"#7201a8\"],[0.3333333333333333,\"#9c179e\"],[0.4444444444444444,\"#bd3786\"],[0.5555555555555556,\"#d8576b\"],[0.6666666666666666,\"#ed7953\"],[0.7777777777777778,\"#fb9f3a\"],[0.8888888888888888,\"#fdca26\"],[1.0,\"#f0f921\"]]}],\"heatmapgl\":[{\"type\":\"heatmapgl\",\"colorbar\":{\"outlinewidth\":0,\"ticks\":\"\"},\"colorscale\":[[0.0,\"#0d0887\"],[0.1111111111111111,\"#46039f\"],[0.2222222222222222,\"#7201a8\"],[0.3333333333333333,\"#9c179e\"],[0.4444444444444444,\"#bd3786\"],[0.5555555555555556,\"#d8576b\"],[0.6666666666666666,\"#ed7953\"],[0.7777777777777778,\"#fb9f3a\"],[0.8888888888888888,\"#fdca26\"],[1.0,\"#f0f921\"]]}],\"contourcarpet\":[{\"type\":\"contourcarpet\",\"colorbar\":{\"outlinewidth\":0,\"ticks\":\"\"}}],\"contour\":[{\"type\":\"contour\",\"colorbar\":{\"outlinewidth\":0,\"ticks\":\"\"},\"colorscale\":[[0.0,\"#0d0887\"],[0.1111111111111111,\"#46039f\"],[0.2222222222222222,\"#7201a8\"],[0.3333333333333333,\"#9c179e\"],[0.4444444444444444,\"#bd3786\"],[0.5555555555555556,\"#d8576b\"],[0.6666666666666666,\"#ed7953\"],[0.7777777777777778,\"#fb9f3a\"],[0.8888888888888888,\"#fdca26\"],[1.0,\"#f0f921\"]]}],\"surface\":[{\"type\":\"surface\",\"colorbar\":{\"outlinewidth\":0,\"ticks\":\"\"},\"colorscale\":[[0.0,\"#0d0887\"],[0.1111111111111111,\"#46039f\"],[0.2222222222222222,\"#7201a8\"],[0.3333333333333333,\"#9c179e\"],[0.4444444444444444,\"#bd3786\"],[0.5555555555555556,\"#d8576b\"],[0.6666666666666666,\"#ed7953\"],[0.7777777777777778,\"#fb9f3a\"],[0.8888888888888888,\"#fdca26\"],[1.0,\"#f0f921\"]]}],\"mesh3d\":[{\"type\":\"mesh3d\",\"colorbar\":{\"outlinewidth\":0,\"ticks\":\"\"}}],\"scatter\":[{\"fillpattern\":{\"fillmode\":\"overlay\",\"size\":10,\"solidity\":0.2},\"type\":\"scatter\"}],\"parcoords\":[{\"type\":\"parcoords\",\"line\":{\"colorbar\":{\"outlinewidth\":0,\"ticks\":\"\"}}}],\"scatterpolargl\":[{\"type\":\"scatterpolargl\",\"marker\":{\"colorbar\":{\"outlinewidth\":0,\"ticks\":\"\"}}}],\"bar\":[{\"error_x\":{\"color\":\"#2a3f5f\"},\"error_y\":{\"color\":\"#2a3f5f\"},\"marker\":{\"line\":{\"color\":\"#E5ECF6\",\"width\":0.5},\"pattern\":{\"fillmode\":\"overlay\",\"size\":10,\"solidity\":0.2}},\"type\":\"bar\"}],\"scattergeo\":[{\"type\":\"scattergeo\",\"marker\":{\"colorbar\":{\"outlinewidth\":0,\"ticks\":\"\"}}}],\"scatterpolar\":[{\"type\":\"scatterpolar\",\"marker\":{\"colorbar\":{\"outlinewidth\":0,\"ticks\":\"\"}}}],\"histogram\":[{\"marker\":{\"pattern\":{\"fillmode\":\"overlay\",\"size\":10,\"solidity\":0.2}},\"type\":\"histogram\"}],\"scattergl\":[{\"type\":\"scattergl\",\"marker\":{\"colorbar\":{\"outlinewidth\":0,\"ticks\":\"\"}}}],\"scatter3d\":[{\"type\":\"scatter3d\",\"line\":{\"colorbar\":{\"outlinewidth\":0,\"ticks\":\"\"}},\"marker\":{\"colorbar\":{\"outlinewidth\":0,\"ticks\":\"\"}}}],\"scattermapbox\":[{\"type\":\"scattermapbox\",\"marker\":{\"colorbar\":{\"outlinewidth\":0,\"ticks\":\"\"}}}],\"scatterternary\":[{\"type\":\"scatterternary\",\"marker\":{\"colorbar\":{\"outlinewidth\":0,\"ticks\":\"\"}}}],\"scattercarpet\":[{\"type\":\"scattercarpet\",\"marker\":{\"colorbar\":{\"outlinewidth\":0,\"ticks\":\"\"}}}],\"carpet\":[{\"aaxis\":{\"endlinecolor\":\"#2a3f5f\",\"gridcolor\":\"white\",\"linecolor\":\"white\",\"minorgridcolor\":\"white\",\"startlinecolor\":\"#2a3f5f\"},\"baxis\":{\"endlinecolor\":\"#2a3f5f\",\"gridcolor\":\"white\",\"linecolor\":\"white\",\"minorgridcolor\":\"white\",\"startlinecolor\":\"#2a3f5f\"},\"type\":\"carpet\"}],\"table\":[{\"cells\":{\"fill\":{\"color\":\"#EBF0F8\"},\"line\":{\"color\":\"white\"}},\"header\":{\"fill\":{\"color\":\"#C8D4E3\"},\"line\":{\"color\":\"white\"}},\"type\":\"table\"}],\"barpolar\":[{\"marker\":{\"line\":{\"color\":\"#E5ECF6\",\"width\":0.5},\"pattern\":{\"fillmode\":\"overlay\",\"size\":10,\"solidity\":0.2}},\"type\":\"barpolar\"}],\"pie\":[{\"automargin\":true,\"type\":\"pie\"}]},\"layout\":{\"autotypenumbers\":\"strict\",\"colorway\":[\"#636efa\",\"#EF553B\",\"#00cc96\",\"#ab63fa\",\"#FFA15A\",\"#19d3f3\",\"#FF6692\",\"#B6E880\",\"#FF97FF\",\"#FECB52\"],\"font\":{\"color\":\"#2a3f5f\"},\"hovermode\":\"closest\",\"hoverlabel\":{\"align\":\"left\"},\"paper_bgcolor\":\"white\",\"plot_bgcolor\":\"#E5ECF6\",\"polar\":{\"bgcolor\":\"#E5ECF6\",\"angularaxis\":{\"gridcolor\":\"white\",\"linecolor\":\"white\",\"ticks\":\"\"},\"radialaxis\":{\"gridcolor\":\"white\",\"linecolor\":\"white\",\"ticks\":\"\"}},\"ternary\":{\"bgcolor\":\"#E5ECF6\",\"aaxis\":{\"gridcolor\":\"white\",\"linecolor\":\"white\",\"ticks\":\"\"},\"baxis\":{\"gridcolor\":\"white\",\"linecolor\":\"white\",\"ticks\":\"\"},\"caxis\":{\"gridcolor\":\"white\",\"linecolor\":\"white\",\"ticks\":\"\"}},\"coloraxis\":{\"colorbar\":{\"outlinewidth\":0,\"ticks\":\"\"}},\"colorscale\":{\"sequential\":[[0.0,\"#0d0887\"],[0.1111111111111111,\"#46039f\"],[0.2222222222222222,\"#7201a8\"],[0.3333333333333333,\"#9c179e\"],[0.4444444444444444,\"#bd3786\"],[0.5555555555555556,\"#d8576b\"],[0.6666666666666666,\"#ed7953\"],[0.7777777777777778,\"#fb9f3a\"],[0.8888888888888888,\"#fdca26\"],[1.0,\"#f0f921\"]],\"sequentialminus\":[[0.0,\"#0d0887\"],[0.1111111111111111,\"#46039f\"],[0.2222222222222222,\"#7201a8\"],[0.3333333333333333,\"#9c179e\"],[0.4444444444444444,\"#bd3786\"],[0.5555555555555556,\"#d8576b\"],[0.6666666666666666,\"#ed7953\"],[0.7777777777777778,\"#fb9f3a\"],[0.8888888888888888,\"#fdca26\"],[1.0,\"#f0f921\"]],\"diverging\":[[0,\"#8e0152\"],[0.1,\"#c51b7d\"],[0.2,\"#de77ae\"],[0.3,\"#f1b6da\"],[0.4,\"#fde0ef\"],[0.5,\"#f7f7f7\"],[0.6,\"#e6f5d0\"],[0.7,\"#b8e186\"],[0.8,\"#7fbc41\"],[0.9,\"#4d9221\"],[1,\"#276419\"]]},\"xaxis\":{\"gridcolor\":\"white\",\"linecolor\":\"white\",\"ticks\":\"\",\"title\":{\"standoff\":15},\"zerolinecolor\":\"white\",\"automargin\":true,\"zerolinewidth\":2},\"yaxis\":{\"gridcolor\":\"white\",\"linecolor\":\"white\",\"ticks\":\"\",\"title\":{\"standoff\":15},\"zerolinecolor\":\"white\",\"automargin\":true,\"zerolinewidth\":2},\"scene\":{\"xaxis\":{\"backgroundcolor\":\"#E5ECF6\",\"gridcolor\":\"white\",\"linecolor\":\"white\",\"showbackground\":true,\"ticks\":\"\",\"zerolinecolor\":\"white\",\"gridwidth\":2},\"yaxis\":{\"backgroundcolor\":\"#E5ECF6\",\"gridcolor\":\"white\",\"linecolor\":\"white\",\"showbackground\":true,\"ticks\":\"\",\"zerolinecolor\":\"white\",\"gridwidth\":2},\"zaxis\":{\"backgroundcolor\":\"#E5ECF6\",\"gridcolor\":\"white\",\"linecolor\":\"white\",\"showbackground\":true,\"ticks\":\"\",\"zerolinecolor\":\"white\",\"gridwidth\":2}},\"shapedefaults\":{\"line\":{\"color\":\"#2a3f5f\"}},\"annotationdefaults\":{\"arrowcolor\":\"#2a3f5f\",\"arrowhead\":0,\"arrowwidth\":1},\"geo\":{\"bgcolor\":\"white\",\"landcolor\":\"#E5ECF6\",\"subunitcolor\":\"white\",\"showland\":true,\"showlakes\":true,\"lakecolor\":\"white\"},\"title\":{\"x\":0.05},\"mapbox\":{\"style\":\"light\"}}},\"title\":{\"text\":\"\\u0412\\u043e\\u0440\\u043e\\u043d\\u043a\\u0430 \\u043e\\u043d\\u0431\\u043e\\u0440\\u0434\\u0438\\u043d\\u0433\\u0430 \\u043f\\u043e\\u043b\\u044c\\u0437\\u043e\\u0432\\u0430\\u0442\\u0435\\u043b\\u0435\\u0439\"},\"yaxis\":{\"title\":{\"text\":\"\\u0428\\u0430\\u0433\\u0438 \\u0432\\u043e\\u0440\\u043e\\u043d\\u043a\\u0438\"}}},                        {\"responsive\": true}                    ).then(function(){\n",
       "                            \n",
       "var gd = document.getElementById('c9ccae01-9fb1-4de8-807c-548ea3098349');\n",
       "var x = new MutationObserver(function (mutations, observer) {{\n",
       "        var display = window.getComputedStyle(gd).display;\n",
       "        if (!display || display === 'none') {{\n",
       "            console.log([gd, 'removed!']);\n",
       "            Plotly.purge(gd);\n",
       "            observer.disconnect();\n",
       "        }}\n",
       "}});\n",
       "\n",
       "// Listen for the removal of the full notebook cells\n",
       "var notebookContainer = gd.closest('#notebook-container');\n",
       "if (notebookContainer) {{\n",
       "    x.observe(notebookContainer, {childList: true});\n",
       "}}\n",
       "\n",
       "// Listen for the clearing of the current output cell\n",
       "var outputEl = gd.closest('.output');\n",
       "if (outputEl) {{\n",
       "    x.observe(outputEl, {childList: true});\n",
       "}}\n",
       "\n",
       "                        })                };                });            </script>        </div>"
      ]
     },
     "metadata": {},
     "output_type": "display_data"
    }
   ],
   "source": [
    "import plotly\n",
    "from plotly import graph_objects as go\n",
    "plotly.offline.init_notebook_mode(connected=True)\n",
    "fig = go.Figure()\n",
    "fig.add_trace(go.Funnel(\n",
    " y = repot_2.index.values,\n",
    " x = repot_2['Уникальные пользователи'],\n",
    " textinfo = \"value+percent initial\"\n",
    " )\n",
    " )\n",
    "fig.update_layout(\n",
    " title = 'Воронка онбординга пользователей',\n",
    " yaxis_title = 'Шаги воронки',\n",
    " )\n",
    "fig.show()\n"
   ]
  }
 ],
 "metadata": {
  "kernelspec": {
   "display_name": "Python 3 (ipykernel)",
   "language": "python",
   "name": "python3"
  },
  "language_info": {
   "codemirror_mode": {
    "name": "ipython",
    "version": 3
   },
   "file_extension": ".py",
   "mimetype": "text/x-python",
   "name": "python",
   "nbconvert_exporter": "python",
   "pygments_lexer": "ipython3",
   "version": "3.12.4"
  }
 },
 "nbformat": 4,
 "nbformat_minor": 5
}
