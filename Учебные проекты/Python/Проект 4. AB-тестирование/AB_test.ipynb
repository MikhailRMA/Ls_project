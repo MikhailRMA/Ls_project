{
 "cells": [
  {
   "cell_type": "markdown",
   "id": "bb72626e-b591-4985-90bc-12e2e55dbdd0",
   "metadata": {},
   "source": [
    "# Расчет длительности A/B-теста"
   ]
  },
  {
   "cell_type": "markdown",
   "id": "5a09c011-499d-4d04-9cb4-424cb0b5968c",
   "metadata": {},
   "source": [
    "Дата-инженеры выгрузили несколько файлов:\n",
    "\n",
    "new_users_history.csv содержит историю привлечения новых пользователей;\n",
    "\n",
    "funnel_history содержит данные о внутриигровых событиях, совершенных этими новыми пользователями.\n",
    "    \n",
    "Файл new_users_history.csv содержит колонки:\n",
    "\n",
    "user_id - уникальный идентификатор пользователя;\n",
    "\n",
    "dt - дата первого визита (регистрации) пользователя;\n",
    "\n",
    "region - географический регион, из которого был совершен визит пользователя;\n",
    "\n",
    "device - устройство, с которого был совершен визит пользователя;\n",
    "\n",
    "acq_channel - рекламный канал из которого был совершен визит пользователя.\n",
    "    \n",
    "Файл funnel_history.csv содержит колонки:\n",
    "\n",
    "user_id - уникальный идентификатор пользователя;\n",
    "\n",
    "event_name - наименование аналитического события;\n",
    "\n",
    "event_dt - дата и время отправки события в аналитическую систему;\n",
    "\n",
    "region - географический регион, из которого был совершен визит пользователя;\n",
    "\n",
    "Изучите исторические данные\n",
    "\n",
    "Какова вероятность того, что пользователь успешно завершит обучение?\n",
    "\n",
    "Рассчитайте необходимую длительность A/B-теста, считая, что:\n",
    "\n",
    "Уровень значимости (alpha) и мощность (beta) равны 0.05 и 0.8;\n",
    "\n",
    "Ожидается, что новый туториал повысит вероятность прохождения обучения на 3.8% (0.038)."
   ]
  },
  {
   "cell_type": "code",
   "execution_count": 3,
   "id": "9aa17557-6ab7-47cb-a7c2-4352c4a9e195",
   "metadata": {},
   "outputs": [],
   "source": [
    "import pandas as pd\n",
    "import numpy as np\n",
    "from matplotlib import pyplot as plt\n",
    "import seaborn as sns\n",
    "import math\n",
    "from scipy import stats\n",
    "from datetime import datetime, timedelta\n",
    "from statsmodels.stats.proportion import proportions_ztest\n",
    "new_users = pd.read_csv('new_users_history.csv') \n",
    "funnel = pd.read_csv('funnel_history.csv')\n",
    "\n",
    "new_users['dt'] = pd.to_datetime(new_users['dt'])\n",
    "funnel['event_dt'] = pd.to_datetime(funnel['event_dt'])\n"
   ]
  },
  {
   "cell_type": "code",
   "execution_count": 4,
   "id": "92a39bd6-a0de-46c8-97fd-6ce3a4799161",
   "metadata": {},
   "outputs": [
    {
     "name": "stdout",
     "output_type": "stream",
     "text": [
      "<class 'pandas.core.frame.DataFrame'>\n",
      "RangeIndex: 30560 entries, 0 to 30559\n",
      "Data columns (total 5 columns):\n",
      " #   Column       Non-Null Count  Dtype         \n",
      "---  ------       --------------  -----         \n",
      " 0   user_id      30560 non-null  object        \n",
      " 1   dt           30560 non-null  datetime64[ns]\n",
      " 2   region       30560 non-null  object        \n",
      " 3   device       30560 non-null  object        \n",
      " 4   acq_channel  30560 non-null  object        \n",
      "dtypes: datetime64[ns](1), object(4)\n",
      "memory usage: 1.2+ MB\n"
     ]
    },
    {
     "data": {
      "text/html": [
       "<div>\n",
       "<style scoped>\n",
       "    .dataframe tbody tr th:only-of-type {\n",
       "        vertical-align: middle;\n",
       "    }\n",
       "\n",
       "    .dataframe tbody tr th {\n",
       "        vertical-align: top;\n",
       "    }\n",
       "\n",
       "    .dataframe thead th {\n",
       "        text-align: right;\n",
       "    }\n",
       "</style>\n",
       "<table border=\"1\" class=\"dataframe\">\n",
       "  <thead>\n",
       "    <tr style=\"text-align: right;\">\n",
       "      <th></th>\n",
       "      <th>user_id</th>\n",
       "      <th>dt</th>\n",
       "      <th>region</th>\n",
       "      <th>device</th>\n",
       "      <th>acq_channel</th>\n",
       "    </tr>\n",
       "  </thead>\n",
       "  <tbody>\n",
       "    <tr>\n",
       "      <th>0</th>\n",
       "      <td>-152afc2b288</td>\n",
       "      <td>2020-05-01</td>\n",
       "      <td>North America</td>\n",
       "      <td>iPhone</td>\n",
       "      <td>GameAds</td>\n",
       "    </tr>\n",
       "    <tr>\n",
       "      <th>1</th>\n",
       "      <td>f89bf8_-b02a</td>\n",
       "      <td>2020-05-01</td>\n",
       "      <td>Europe</td>\n",
       "      <td>iPhone</td>\n",
       "      <td>GameAds</td>\n",
       "    </tr>\n",
       "    <tr>\n",
       "      <th>2</th>\n",
       "      <td>949cd6682_a8</td>\n",
       "      <td>2020-05-01</td>\n",
       "      <td>Africa</td>\n",
       "      <td>iPhone</td>\n",
       "      <td>SenseAds</td>\n",
       "    </tr>\n",
       "    <tr>\n",
       "      <th>3</th>\n",
       "      <td>358ba3d0f-a2</td>\n",
       "      <td>2020-05-01</td>\n",
       "      <td>CN</td>\n",
       "      <td>iPhone</td>\n",
       "      <td>GameAds</td>\n",
       "    </tr>\n",
       "    <tr>\n",
       "      <th>4</th>\n",
       "      <td>f996bf887511</td>\n",
       "      <td>2020-05-01</td>\n",
       "      <td>CIS</td>\n",
       "      <td>iPhone</td>\n",
       "      <td>GameAds</td>\n",
       "    </tr>\n",
       "  </tbody>\n",
       "</table>\n",
       "</div>"
      ],
      "text/plain": [
       "        user_id         dt         region  device acq_channel\n",
       "0  -152afc2b288 2020-05-01  North America  iPhone     GameAds\n",
       "1  f89bf8_-b02a 2020-05-01         Europe  iPhone     GameAds\n",
       "2  949cd6682_a8 2020-05-01         Africa  iPhone    SenseAds\n",
       "3  358ba3d0f-a2 2020-05-01             CN  iPhone     GameAds\n",
       "4  f996bf887511 2020-05-01            CIS  iPhone     GameAds"
      ]
     },
     "execution_count": 4,
     "metadata": {},
     "output_type": "execute_result"
    }
   ],
   "source": [
    "new_users.info() \n",
    "new_users.head()"
   ]
  },
  {
   "cell_type": "code",
   "execution_count": 5,
   "id": "94580708-7c6f-47b8-b0a7-06ce3edb037a",
   "metadata": {},
   "outputs": [
    {
     "name": "stdout",
     "output_type": "stream",
     "text": [
      "<class 'pandas.core.frame.DataFrame'>\n",
      "RangeIndex: 80254 entries, 0 to 80253\n",
      "Data columns (total 5 columns):\n",
      " #   Column      Non-Null Count  Dtype         \n",
      "---  ------      --------------  -----         \n",
      " 0   user_id     80254 non-null  object        \n",
      " 1   event_name  80254 non-null  object        \n",
      " 2   event_dt    80254 non-null  datetime64[ns]\n",
      " 3   dt          80254 non-null  object        \n",
      " 4   region      80254 non-null  object        \n",
      "dtypes: datetime64[ns](1), object(4)\n",
      "memory usage: 3.1+ MB\n"
     ]
    },
    {
     "data": {
      "text/html": [
       "<div>\n",
       "<style scoped>\n",
       "    .dataframe tbody tr th:only-of-type {\n",
       "        vertical-align: middle;\n",
       "    }\n",
       "\n",
       "    .dataframe tbody tr th {\n",
       "        vertical-align: top;\n",
       "    }\n",
       "\n",
       "    .dataframe thead th {\n",
       "        text-align: right;\n",
       "    }\n",
       "</style>\n",
       "<table border=\"1\" class=\"dataframe\">\n",
       "  <thead>\n",
       "    <tr style=\"text-align: right;\">\n",
       "      <th></th>\n",
       "      <th>user_id</th>\n",
       "      <th>event_name</th>\n",
       "      <th>event_dt</th>\n",
       "      <th>dt</th>\n",
       "      <th>region</th>\n",
       "    </tr>\n",
       "  </thead>\n",
       "  <tbody>\n",
       "    <tr>\n",
       "      <th>0</th>\n",
       "      <td>--014ca35_b7</td>\n",
       "      <td>login</td>\n",
       "      <td>2020-05-09 04:20:12</td>\n",
       "      <td>2020-05-09</td>\n",
       "      <td>North America</td>\n",
       "    </tr>\n",
       "    <tr>\n",
       "      <th>1</th>\n",
       "      <td>--014ca35_b7</td>\n",
       "      <td>tutorial_completed</td>\n",
       "      <td>2020-05-09 04:20:13</td>\n",
       "      <td>2020-05-09</td>\n",
       "      <td>North America</td>\n",
       "    </tr>\n",
       "    <tr>\n",
       "      <th>2</th>\n",
       "      <td>--014ca35_b7</td>\n",
       "      <td>tuturial_started</td>\n",
       "      <td>2020-05-09 04:20:11</td>\n",
       "      <td>2020-05-09</td>\n",
       "      <td>North America</td>\n",
       "    </tr>\n",
       "    <tr>\n",
       "      <th>3</th>\n",
       "      <td>--0424774bcb</td>\n",
       "      <td>login</td>\n",
       "      <td>2020-05-30 07:23:03</td>\n",
       "      <td>2020-05-30</td>\n",
       "      <td>CIS</td>\n",
       "    </tr>\n",
       "    <tr>\n",
       "      <th>4</th>\n",
       "      <td>--0424774bcb</td>\n",
       "      <td>tutorial_completed</td>\n",
       "      <td>2020-05-30 07:23:05</td>\n",
       "      <td>2020-05-30</td>\n",
       "      <td>CIS</td>\n",
       "    </tr>\n",
       "  </tbody>\n",
       "</table>\n",
       "</div>"
      ],
      "text/plain": [
       "        user_id          event_name            event_dt          dt  \\\n",
       "0  --014ca35_b7               login 2020-05-09 04:20:12  2020-05-09   \n",
       "1  --014ca35_b7  tutorial_completed 2020-05-09 04:20:13  2020-05-09   \n",
       "2  --014ca35_b7    tuturial_started 2020-05-09 04:20:11  2020-05-09   \n",
       "3  --0424774bcb               login 2020-05-30 07:23:03  2020-05-30   \n",
       "4  --0424774bcb  tutorial_completed 2020-05-30 07:23:05  2020-05-30   \n",
       "\n",
       "          region  \n",
       "0  North America  \n",
       "1  North America  \n",
       "2  North America  \n",
       "3            CIS  \n",
       "4            CIS  "
      ]
     },
     "execution_count": 5,
     "metadata": {},
     "output_type": "execute_result"
    }
   ],
   "source": [
    "funnel.info() \n",
    "funnel.head()"
   ]
  },
  {
   "cell_type": "code",
   "execution_count": 6,
   "id": "d3bc32c9-d95f-4eb0-9091-1c04f2a69bb9",
   "metadata": {},
   "outputs": [
    {
     "data": {
      "text/html": [
       "<style type=\"text/css\">\n",
       "</style>\n",
       "<table id=\"T_00e98\">\n",
       "  <thead>\n",
       "    <tr>\n",
       "      <th class=\"blank level0\" >&nbsp;</th>\n",
       "      <th id=\"T_00e98_level0_col0\" class=\"col_heading level0 col0\" >События</th>\n",
       "      <th id=\"T_00e98_level0_col1\" class=\"col_heading level0 col1\" >Уникальные пользователи</th>\n",
       "      <th id=\"T_00e98_level0_col2\" class=\"col_heading level0 col2\" >%</th>\n",
       "    </tr>\n",
       "    <tr>\n",
       "      <th class=\"index_name level0\" >event_name</th>\n",
       "      <th class=\"blank col0\" >&nbsp;</th>\n",
       "      <th class=\"blank col1\" >&nbsp;</th>\n",
       "      <th class=\"blank col2\" >&nbsp;</th>\n",
       "    </tr>\n",
       "  </thead>\n",
       "  <tbody>\n",
       "    <tr>\n",
       "      <th id=\"T_00e98_level0_row0\" class=\"row_heading level0 row0\" >login</th>\n",
       "      <td id=\"T_00e98_row0_col0\" class=\"data row0 col0\" >30560</td>\n",
       "      <td id=\"T_00e98_row0_col1\" class=\"data row0 col1\" >30560</td>\n",
       "      <td id=\"T_00e98_row0_col2\" class=\"data row0 col2\" >100.00%</td>\n",
       "    </tr>\n",
       "    <tr>\n",
       "      <th id=\"T_00e98_level0_row1\" class=\"row_heading level0 row1\" >tuturial_started</th>\n",
       "      <td id=\"T_00e98_row1_col0\" class=\"data row1 col0\" >27408</td>\n",
       "      <td id=\"T_00e98_row1_col1\" class=\"data row1 col1\" >27408</td>\n",
       "      <td id=\"T_00e98_row1_col2\" class=\"data row1 col2\" >89.69%</td>\n",
       "    </tr>\n",
       "    <tr>\n",
       "      <th id=\"T_00e98_level0_row2\" class=\"row_heading level0 row2\" >tutorial_completed</th>\n",
       "      <td id=\"T_00e98_row2_col0\" class=\"data row2 col0\" >22286</td>\n",
       "      <td id=\"T_00e98_row2_col1\" class=\"data row2 col1\" >22286</td>\n",
       "      <td id=\"T_00e98_row2_col2\" class=\"data row2 col2\" >72.93%</td>\n",
       "    </tr>\n",
       "  </tbody>\n",
       "</table>\n"
      ],
      "text/plain": [
       "<pandas.io.formats.style.Styler at 0x1895cf11130>"
      ]
     },
     "execution_count": 6,
     "metadata": {},
     "output_type": "execute_result"
    }
   ],
   "source": [
    "report = funnel.groupby('event_name').agg({'user_id': ['count', 'nunique']}) \n",
    "report.columns = ['События', 'Уникальные пользователи']\n",
    "report = report.sort_values(by = 'Уникальные пользователи', ascending = False)\n",
    "report['%'] = report['Уникальные пользователи'] / report['Уникальные пользователи'].values[0]\n",
    "report.style.format({'%': '{:.2%}'})\n"
   ]
  },
  {
   "cell_type": "markdown",
   "id": "60bbd47e-f573-4e11-9a95-a9ee33354b47",
   "metadata": {},
   "source": [
    "Расчет длительности теста"
   ]
  },
  {
   "cell_type": "code",
   "execution_count": 8,
   "id": "9c7fb919-7bbd-4b18-966e-11975449edba",
   "metadata": {},
   "outputs": [],
   "source": [
    "def get_sample_size(mean, std, relative_practical_significance, alpha, power):\n",
    "    z = stats.norm.ppf(1 - alpha / 2) + abs(stats.norm.ppf(1 - power))  \n",
    "    d = mean * relative_practical_significance\n",
    "    return math.ceil(2 * ((std * z / d) ** 2))"
   ]
  },
  {
   "cell_type": "markdown",
   "id": "715fa1df-0638-462f-b528-a6b7ab78d1e8",
   "metadata": {},
   "source": [
    "На выходе этой функции мы получаем минимальное число наблюдений, которое нужно для обнаружения того, что mean изменилась на relative_practical_significance процентов.\n",
    "\n",
    "Уровень значимости и можность мы задаем самостоятельно"
   ]
  },
  {
   "cell_type": "code",
   "execution_count": 10,
   "id": "cebcce06-35cc-4a04-9724-bda7d73f0fad",
   "metadata": {},
   "outputs": [
    {
     "data": {
      "text/plain": [
       "(0.05, 0.8)"
      ]
     },
     "execution_count": 10,
     "metadata": {},
     "output_type": "execute_result"
    }
   ],
   "source": [
    "alpha = 0.05\n",
    "power = 0.8 \n",
    "alpha, power\n"
   ]
  },
  {
   "cell_type": "code",
   "execution_count": 11,
   "id": "c5b21e79-8061-4cb6-a068-c404f2202d17",
   "metadata": {},
   "outputs": [
    {
     "name": "stdout",
     "output_type": "stream",
     "text": [
      "Средняя конверсия в прохождения туториала: 72.93%, СКО конверсии: 0.44\n"
     ]
    }
   ],
   "source": [
    "import numpy as np \n",
    "import math\n",
    "from scipy import stats\n",
    "p = len(funnel.query('event_name == \"tutorial_completed\"')['user_id'].unique()) / len(funnel.query('event_name == \"login\"')['user_id'].unique())\n",
    "tutorial_mean = p\n",
    "tutorial_std = np.sqrt(p * (1 - p))\n",
    "\n",
    "print('Средняя конверсия в прохождения туториала: {:.2%}, СКО конверсии: {:.2f}'.format (tutorial_mean, tutorial_std))\n"
   ]
  },
  {
   "cell_type": "code",
   "execution_count": 12,
   "id": "5b532bfa-7f2b-4ec1-a81d-233c4ed65b78",
   "metadata": {},
   "outputs": [
    {
     "data": {
      "text/plain": [
       "4037"
      ]
     },
     "execution_count": 12,
     "metadata": {},
     "output_type": "execute_result"
    }
   ],
   "source": [
    "tutorial_sample_size = get_sample_size(tutorial_mean, tutorial_std, 0.038, alpha, power)\n",
    "tutorial_sample_size"
   ]
  },
  {
   "cell_type": "code",
   "execution_count": 13,
   "id": "2e92416f-7296-4976-94b2-ee39a22aaa68",
   "metadata": {},
   "outputs": [
    {
     "name": "stdout",
     "output_type": "stream",
     "text": [
      "Среднее число новых пользователей в день: 986, нужный размер выборки для двух групп: 8074\n"
     ]
    }
   ],
   "source": [
    "mean_daily_users = new_users.groupby('dt').agg({'user_id': 'nunique'})['user_id'].mean ()\n",
    "expected_test_participants_num = tutorial_sample_size * 2\n",
    "print('Среднее число новых пользователей в день: {:.0f}, нужный размер выборки для двух групп: {}'.format(mean_daily_users, expected_test_participants_num))\n"
   ]
  },
  {
   "cell_type": "code",
   "execution_count": 14,
   "id": "edfe82e8-bfb7-4852-8322-b9dc12316800",
   "metadata": {},
   "outputs": [
    {
     "name": "stdout",
     "output_type": "stream",
     "text": [
      "На проведение теста потребуется: 8 дней\n"
     ]
    }
   ],
   "source": [
    "test_days_num = expected_test_participants_num / mean_daily_users\n",
    "print('На проведение теста потребуется: {:.0f} дней'.format(test_days_num))\n"
   ]
  },
  {
   "cell_type": "markdown",
   "id": "24b01bcd-87fb-4ae6-b099-7f9329437d95",
   "metadata": {},
   "source": [
    "Принимая в расчет сезонность, берем 14 дней."
   ]
  },
  {
   "cell_type": "markdown",
   "id": "64dda48f-72f9-4843-a323-082c4e964988",
   "metadata": {},
   "source": [
    "# Оценка корректности проведения теста"
   ]
  },
  {
   "cell_type": "code",
   "execution_count": 17,
   "id": "001e0e21-6d05-4a88-b752-03c000311a6b",
   "metadata": {},
   "outputs": [
    {
     "data": {
      "text/html": [
       "<div>\n",
       "<style scoped>\n",
       "    .dataframe tbody tr th:only-of-type {\n",
       "        vertical-align: middle;\n",
       "    }\n",
       "\n",
       "    .dataframe tbody tr th {\n",
       "        vertical-align: top;\n",
       "    }\n",
       "\n",
       "    .dataframe thead th {\n",
       "        text-align: right;\n",
       "    }\n",
       "</style>\n",
       "<table border=\"1\" class=\"dataframe\">\n",
       "  <thead>\n",
       "    <tr style=\"text-align: right;\">\n",
       "      <th></th>\n",
       "      <th>user_id</th>\n",
       "      <th>test_name</th>\n",
       "      <th>test_group</th>\n",
       "    </tr>\n",
       "  </thead>\n",
       "  <tbody>\n",
       "    <tr>\n",
       "      <th>0</th>\n",
       "      <td>-5dabb4f564d</td>\n",
       "      <td>new_tutorial_test</td>\n",
       "      <td>A</td>\n",
       "    </tr>\n",
       "    <tr>\n",
       "      <th>1</th>\n",
       "      <td>9d335_2101b0</td>\n",
       "      <td>new_tutorial_test</td>\n",
       "      <td>A</td>\n",
       "    </tr>\n",
       "    <tr>\n",
       "      <th>2</th>\n",
       "      <td>29_1_-d06009</td>\n",
       "      <td>new_tutorial_test</td>\n",
       "      <td>A</td>\n",
       "    </tr>\n",
       "    <tr>\n",
       "      <th>3</th>\n",
       "      <td>4-11cdb_323_</td>\n",
       "      <td>new_tutorial_test</td>\n",
       "      <td>A</td>\n",
       "    </tr>\n",
       "    <tr>\n",
       "      <th>4</th>\n",
       "      <td>09a-1df--3-8</td>\n",
       "      <td>new_tutorial_test</td>\n",
       "      <td>A</td>\n",
       "    </tr>\n",
       "    <tr>\n",
       "      <th>...</th>\n",
       "      <td>...</td>\n",
       "      <td>...</td>\n",
       "      <td>...</td>\n",
       "    </tr>\n",
       "    <tr>\n",
       "      <th>2830</th>\n",
       "      <td>da548a441d78</td>\n",
       "      <td>new_tutorial_test</td>\n",
       "      <td>B</td>\n",
       "    </tr>\n",
       "    <tr>\n",
       "      <th>2831</th>\n",
       "      <td>4df97d74a826</td>\n",
       "      <td>new_tutorial_test</td>\n",
       "      <td>B</td>\n",
       "    </tr>\n",
       "    <tr>\n",
       "      <th>2832</th>\n",
       "      <td>49-8-d102058</td>\n",
       "      <td>new_tutorial_test</td>\n",
       "      <td>B</td>\n",
       "    </tr>\n",
       "    <tr>\n",
       "      <th>2833</th>\n",
       "      <td>8-512dcc03-6</td>\n",
       "      <td>new_tutorial_test</td>\n",
       "      <td>B</td>\n",
       "    </tr>\n",
       "    <tr>\n",
       "      <th>2834</th>\n",
       "      <td>a8d991_77f68</td>\n",
       "      <td>new_tutorial_test</td>\n",
       "      <td>B</td>\n",
       "    </tr>\n",
       "  </tbody>\n",
       "</table>\n",
       "<p>2835 rows × 3 columns</p>\n",
       "</div>"
      ],
      "text/plain": [
       "           user_id          test_name test_group\n",
       "0     -5dabb4f564d  new_tutorial_test          A\n",
       "1     9d335_2101b0  new_tutorial_test          A\n",
       "2     29_1_-d06009  new_tutorial_test          A\n",
       "3     4-11cdb_323_  new_tutorial_test          A\n",
       "4     09a-1df--3-8  new_tutorial_test          A\n",
       "...            ...                ...        ...\n",
       "2830  da548a441d78  new_tutorial_test          B\n",
       "2831  4df97d74a826  new_tutorial_test          B\n",
       "2832  49-8-d102058  new_tutorial_test          B\n",
       "2833  8-512dcc03-6  new_tutorial_test          B\n",
       "2834  a8d991_77f68  new_tutorial_test          B\n",
       "\n",
       "[2835 rows x 3 columns]"
      ]
     },
     "execution_count": 17,
     "metadata": {},
     "output_type": "execute_result"
    }
   ],
   "source": [
    "test_participants = pd.read_csv('participants_run.csv') \n",
    "test_participants"
   ]
  },
  {
   "cell_type": "code",
   "execution_count": 18,
   "id": "e03e5239-8615-439b-bac7-522b19c5255e",
   "metadata": {},
   "outputs": [
    {
     "data": {
      "text/html": [
       "<div>\n",
       "<style scoped>\n",
       "    .dataframe tbody tr th:only-of-type {\n",
       "        vertical-align: middle;\n",
       "    }\n",
       "\n",
       "    .dataframe tbody tr th {\n",
       "        vertical-align: top;\n",
       "    }\n",
       "\n",
       "    .dataframe thead th {\n",
       "        text-align: right;\n",
       "    }\n",
       "</style>\n",
       "<table border=\"1\" class=\"dataframe\">\n",
       "  <thead>\n",
       "    <tr style=\"text-align: right;\">\n",
       "      <th></th>\n",
       "      <th></th>\n",
       "      <th>Участники</th>\n",
       "      <th>% участников</th>\n",
       "    </tr>\n",
       "    <tr>\n",
       "      <th>test_name</th>\n",
       "      <th>test_group</th>\n",
       "      <th></th>\n",
       "      <th></th>\n",
       "    </tr>\n",
       "  </thead>\n",
       "  <tbody>\n",
       "    <tr>\n",
       "      <th rowspan=\"2\" valign=\"top\">new_tutorial_test</th>\n",
       "      <th>A</th>\n",
       "      <td>1368</td>\n",
       "      <td>0.48</td>\n",
       "    </tr>\n",
       "    <tr>\n",
       "      <th>B</th>\n",
       "      <td>1467</td>\n",
       "      <td>0.52</td>\n",
       "    </tr>\n",
       "  </tbody>\n",
       "</table>\n",
       "</div>"
      ],
      "text/plain": [
       "                              Участники  % участников\n",
       "test_name         test_group                         \n",
       "new_tutorial_test A                1368          0.48\n",
       "                  B                1467          0.52"
      ]
     },
     "execution_count": 18,
     "metadata": {},
     "output_type": "execute_result"
    }
   ],
   "source": [
    "report = test_participants.groupby(['test_name', 'test_group']).agg({'user_id': 'nunique'}).rename(columns = {'user_id': 'Участники'})\n",
    "report['% участников'] = (report['Участники'] / report['Участники'].sum()).round(2) \n",
    "report\n"
   ]
  },
  {
   "cell_type": "code",
   "execution_count": 19,
   "id": "4bd329db-937f-4fd2-b982-8d7f2cf1ab28",
   "metadata": {},
   "outputs": [
    {
     "name": "stdout",
     "output_type": "stream",
     "text": [
      "p-value: 0.06281848165225283\n",
      "Нулевая гипотеза не отвергается: вероятность попасть в группу B составляет 50%\n"
     ]
    }
   ],
   "source": [
    "from statsmodels.stats.proportion import proportions_ztest\n",
    "b_users = test_participants.query('test_group == \"A\"').shape[0] \n",
    "all_participants = test_participants.shape[0]\n",
    "\n",
    "alpha = 0.05\n",
    "pvalue = proportions_ztest(b_users, all_participants, value = 0.5)[1] \n",
    "print('p-value: {}'.format(pvalue))\n",
    "if pvalue >= alpha:\n",
    "    print('Нулевая гипотеза не отвергается: вероятность попасть в группу B составляет 50%')\n",
    "else:\n",
    "    print('Нулевая гипотеза отвергается: вероятность попасть в группу B отличается от 50%')\n"
   ]
  },
  {
   "cell_type": "markdown",
   "id": "1256d6f3-a1df-47ac-bfe0-0a5c438a609c",
   "metadata": {},
   "source": [
    "# Анализ результатов теста"
   ]
  },
  {
   "cell_type": "code",
   "execution_count": 21,
   "id": "acf7128a-b632-4b68-b0d7-8871c6fef118",
   "metadata": {},
   "outputs": [
    {
     "data": {
      "text/html": [
       "<div>\n",
       "<style scoped>\n",
       "    .dataframe tbody tr th:only-of-type {\n",
       "        vertical-align: middle;\n",
       "    }\n",
       "\n",
       "    .dataframe tbody tr th {\n",
       "        vertical-align: top;\n",
       "    }\n",
       "\n",
       "    .dataframe thead th {\n",
       "        text-align: right;\n",
       "    }\n",
       "</style>\n",
       "<table border=\"1\" class=\"dataframe\">\n",
       "  <thead>\n",
       "    <tr style=\"text-align: right;\">\n",
       "      <th></th>\n",
       "      <th>user_id</th>\n",
       "      <th>test_name</th>\n",
       "      <th>test_group</th>\n",
       "    </tr>\n",
       "  </thead>\n",
       "  <tbody>\n",
       "    <tr>\n",
       "      <th>0</th>\n",
       "      <td>-5dabb4f564d</td>\n",
       "      <td>new_tutorial_test</td>\n",
       "      <td>A</td>\n",
       "    </tr>\n",
       "    <tr>\n",
       "      <th>1</th>\n",
       "      <td>9d335_2101b0</td>\n",
       "      <td>new_tutorial_test</td>\n",
       "      <td>A</td>\n",
       "    </tr>\n",
       "    <tr>\n",
       "      <th>2</th>\n",
       "      <td>29_1_-d06009</td>\n",
       "      <td>new_tutorial_test</td>\n",
       "      <td>A</td>\n",
       "    </tr>\n",
       "    <tr>\n",
       "      <th>3</th>\n",
       "      <td>4-11cdb_323_</td>\n",
       "      <td>new_tutorial_test</td>\n",
       "      <td>A</td>\n",
       "    </tr>\n",
       "    <tr>\n",
       "      <th>4</th>\n",
       "      <td>09a-1df--3-8</td>\n",
       "      <td>new_tutorial_test</td>\n",
       "      <td>A</td>\n",
       "    </tr>\n",
       "  </tbody>\n",
       "</table>\n",
       "</div>"
      ],
      "text/plain": [
       "        user_id          test_name test_group\n",
       "0  -5dabb4f564d  new_tutorial_test          A\n",
       "1  9d335_2101b0  new_tutorial_test          A\n",
       "2  29_1_-d06009  new_tutorial_test          A\n",
       "3  4-11cdb_323_  new_tutorial_test          A\n",
       "4  09a-1df--3-8  new_tutorial_test          A"
      ]
     },
     "execution_count": 21,
     "metadata": {},
     "output_type": "execute_result"
    }
   ],
   "source": [
    "new_users = pd.read_csv('new_users_history.csv') \n",
    "funnel = pd.read_csv('funnel_test.csv')\n",
    "test_participants = pd.read_csv('participants_run.csv')\n",
    "\n",
    "new_users['dt'] = pd.to_datetime(new_users['dt'])\n",
    "funnel['event_dt'] = pd.to_datetime(funnel['event_dt'])\n",
    "test_participants.head(5)"
   ]
  },
  {
   "cell_type": "code",
   "execution_count": 22,
   "id": "48a4b11a-f347-4f62-a3f7-8a88a11b6e33",
   "metadata": {},
   "outputs": [
    {
     "name": "stdout",
     "output_type": "stream",
     "text": [
      "Ожидаемое число участников теста: 8074\n",
      "Текущее число участников теста: 2835\n"
     ]
    }
   ],
   "source": [
    "print('Ожидаемое число участников теста: {}'.format(expected_test_participants_num)) \n",
    "print('Текущее число участников теста: {}'.format(test_participants['user_id'].nunique ()))"
   ]
  },
  {
   "cell_type": "code",
   "execution_count": 23,
   "id": "60ca2caa-49fc-44f6-b61d-df544eafd9d3",
   "metadata": {},
   "outputs": [
    {
     "data": {
      "text/html": [
       "<div>\n",
       "<style scoped>\n",
       "    .dataframe tbody tr th:only-of-type {\n",
       "        vertical-align: middle;\n",
       "    }\n",
       "\n",
       "    .dataframe tbody tr th {\n",
       "        vertical-align: top;\n",
       "    }\n",
       "\n",
       "    .dataframe thead th {\n",
       "        text-align: right;\n",
       "    }\n",
       "</style>\n",
       "<table border=\"1\" class=\"dataframe\">\n",
       "  <thead>\n",
       "    <tr style=\"text-align: right;\">\n",
       "      <th></th>\n",
       "      <th></th>\n",
       "      <th>user_id</th>\n",
       "    </tr>\n",
       "    <tr>\n",
       "      <th>test_name</th>\n",
       "      <th>test_group</th>\n",
       "      <th></th>\n",
       "    </tr>\n",
       "  </thead>\n",
       "  <tbody>\n",
       "    <tr>\n",
       "      <th rowspan=\"2\" valign=\"top\">new_tutorial_test</th>\n",
       "      <th>A</th>\n",
       "      <td>1368</td>\n",
       "    </tr>\n",
       "    <tr>\n",
       "      <th>B</th>\n",
       "      <td>1467</td>\n",
       "    </tr>\n",
       "  </tbody>\n",
       "</table>\n",
       "</div>"
      ],
      "text/plain": [
       "                              user_id\n",
       "test_name         test_group         \n",
       "new_tutorial_test A              1368\n",
       "                  B              1467"
      ]
     },
     "execution_count": 23,
     "metadata": {},
     "output_type": "execute_result"
    }
   ],
   "source": [
    "test_participants.groupby(['test_name', 'test_group']).agg({'user_id': 'nunique'})"
   ]
  },
  {
   "cell_type": "code",
   "execution_count": 24,
   "id": "9fab41ca-93f9-4eec-81ca-73248d7ede84",
   "metadata": {},
   "outputs": [],
   "source": [
    "alpha = 0.05"
   ]
  },
  {
   "cell_type": "code",
   "execution_count": 25,
   "id": "904dfe87-b064-4565-bc5b-c935ee0cbe0c",
   "metadata": {},
   "outputs": [
    {
     "data": {
      "image/png": "[encoded data removed]",
      "text/plain": [
       "<Figure size 1000x500 with 1 Axes>"
      ]
     },
     "metadata": {},
     "output_type": "display_data"
    }
   ],
   "source": [
    "report = funnel.pivot_table(index = 'event_name', columns = 'test_group', values = 'user_id', aggfunc = 'nunique')\n",
    "report = report.sort_values(by = 'A', ascending = False) \n",
    "report['A'] = report['A'] / report['A']['login']\n",
    "report['B'] = report['B'] / report['B']['login'] \n",
    "report.plot(figsize = (10, 5))\n",
    "plt.xlabel('Шаг воронки'), plt.ylabel('% уникальных пользователей'), plt.title('Воронка с разбивкой по группам');\n"
   ]
  },
  {
   "cell_type": "code",
   "execution_count": 26,
   "id": "ca75bcd3-926c-4060-87df-f4aded5d3c8f",
   "metadata": {},
   "outputs": [
    {
     "data": {
      "text/html": [
       "<div>\n",
       "<style scoped>\n",
       "    .dataframe tbody tr th:only-of-type {\n",
       "        vertical-align: middle;\n",
       "    }\n",
       "\n",
       "    .dataframe tbody tr th {\n",
       "        vertical-align: top;\n",
       "    }\n",
       "\n",
       "    .dataframe thead th {\n",
       "        text-align: right;\n",
       "    }\n",
       "</style>\n",
       "<table border=\"1\" class=\"dataframe\">\n",
       "  <thead>\n",
       "    <tr style=\"text-align: right;\">\n",
       "      <th>event_name</th>\n",
       "      <th>login</th>\n",
       "      <th>tuturial_started</th>\n",
       "      <th>tutorial_completed</th>\n",
       "    </tr>\n",
       "    <tr>\n",
       "      <th>test_group</th>\n",
       "      <th></th>\n",
       "      <th></th>\n",
       "      <th></th>\n",
       "    </tr>\n",
       "  </thead>\n",
       "  <tbody>\n",
       "    <tr>\n",
       "      <th>A</th>\n",
       "      <td>4226</td>\n",
       "      <td>3980</td>\n",
       "      <td>3302</td>\n",
       "    </tr>\n",
       "    <tr>\n",
       "      <th>B</th>\n",
       "      <td>4325</td>\n",
       "      <td>3731</td>\n",
       "      <td>2881</td>\n",
       "    </tr>\n",
       "  </tbody>\n",
       "</table>\n",
       "</div>"
      ],
      "text/plain": [
       "event_name  login  tuturial_started  tutorial_completed\n",
       "test_group                                             \n",
       "A            4226              3980                3302\n",
       "B            4325              3731                2881"
      ]
     },
     "execution_count": 26,
     "metadata": {},
     "output_type": "execute_result"
    }
   ],
   "source": [
    "report = funnel.pivot_table(index = 'test_group', columns = 'event_name', values = 'user_id', aggfunc = 'nunique')[['login', 'tuturial_started', 'tutorial_completed']]\n",
    "report\n"
   ]
  },
  {
   "cell_type": "code",
   "execution_count": 27,
   "id": "4f75ff17-a79d-43e7-9aae-ba78bd4a6630",
   "metadata": {},
   "outputs": [
    {
     "name": "stdout",
     "output_type": "stream",
     "text": [
      "p-value: 1.1152854995855214e-32\n",
      "Нулевая гипотеза отвергается: между группами A и B есть различие в % завершения туториала.\n"
     ]
    }
   ],
   "source": [
    "count = list(report['tutorial_completed'].values) \n",
    "nobs = list(report['login'].values)\n",
    "pvalue = proportions_ztest(count, nobs, value = 0)[1] \n",
    "print('p-value: {}'.format(pvalue))\n",
    "if pvalue >= alpha:\n",
    "    print('Нулевая гипотеза не отвергается: между группами A и B нет различий в % завершения туториала.')\n",
    "else:\n",
    "    print('Нулевая гипотеза отвергается: между группами A и B есть различие в % завершения туториала.')\n"
   ]
  }
 ],
 "metadata": {
  "kernelspec": {
   "display_name": "Python 3 (ipykernel)",
   "language": "python",
   "name": "python3"
  },
  "language_info": {
   "codemirror_mode": {
    "name": "ipython",
    "version": 3
   },
   "file_extension": ".py",
   "mimetype": "text/x-python",
   "name": "python",
   "nbconvert_exporter": "python",
   "pygments_lexer": "ipython3",
   "version": "3.12.4"
  }
 },
 "nbformat": 4,
 "nbformat_minor": 5
}
